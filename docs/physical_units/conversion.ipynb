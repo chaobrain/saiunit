{
 "cells": [
  {
   "metadata": {},
   "cell_type": "markdown",
   "source": [
    "# Quantity Conversion for Other Utilities\n",
    "\n",
    "[![Colab](https://colab.research.google.com/assets/colab-badge.svg)](https://colab.research.google.com/github/chaobrain/saiunit/blob/master/docs/physical_units/conversion.ipynb)\n",
    "[![Open in Kaggle](https://kaggle.com/static/images/open-in-kaggle.svg)](https://kaggle.com/kernels/welcome?src=https://github.com/chaobrain/saiunit/blob/master/docs/physical_units/conversion.ipynb)"
   ]
  },
  {
   "metadata": {},
   "cell_type": "markdown",
   "source": "## Dimensionless Quantities"
  },
  {
   "metadata": {},
   "cell_type": "markdown",
   "source": "Dimensionless Quantities are useful in many scenarios and some mathematical functions only accept dimensionless quantities. `Quantity` provides `to_value` method to convert a quantity to a dimensionless quantity."
  },
  {
   "metadata": {},
   "cell_type": "code",
   "outputs": [],
   "execution_count": null,
   "source": [
    "import saiunit as u\n",
    "a = [1, 2, 3] * u.mV\n",
    "a"
   ]
  },
  {
   "metadata": {},
   "cell_type": "code",
   "outputs": [],
   "execution_count": null,
   "source": "a.to_decimal(u.volt)"
  },
  {
   "metadata": {},
   "cell_type": "markdown",
   "source": "`to_value` method accepts a `unit` parameter and returns the value of the `Quantity` in the scale of the given unit."
  },
  {
   "metadata": {},
   "cell_type": "markdown",
   "source": "## Plotting Quantities"
  },
  {
   "metadata": {},
   "cell_type": "markdown",
   "source": [
    "Dimensionless `Quantity` can be convieniently plotted using [matplotlib](https://matplotlib.org/). \n",
    "\n",
    "The Dimensionless `Quantity` can be passed to matplotlib plotting functions."
   ]
  },
  {
   "metadata": {},
   "cell_type": "code",
   "outputs": [],
   "execution_count": null,
   "source": [
    "import matplotlib.pyplot as plt\n",
    "plt.figure(figsize=(5, 3))\n",
    "plt.plot(a.to_decimal(u.volt))"
   ]
  },
  {
   "metadata": {},
   "cell_type": "code",
   "outputs": [],
   "execution_count": null,
   "source": [
    "a = u.math.arange(10 * u.meter, step=1 * u.meter)\n",
    "b = u.math.arange(100 * u.second, step=10 * u.second)\n",
    "plt.plot(a.to_decimal(u.meter), b.to_decimal(u.second))"
   ]
  },
  {
   "metadata": {},
   "cell_type": "markdown",
   "source": "## Converting to Plain Python Scalars"
  },
  {
   "metadata": {},
   "cell_type": "markdown",
   "source": "Converting `Quantity` objects does not work for non-dimensionless quantities."
  },
  {
   "metadata": {},
   "cell_type": "code",
   "outputs": [],
   "execution_count": null,
   "source": [
    "try:\n",
    "    float(3. * u.mV)\n",
    "except TypeError as e:\n",
    "    print(e)"
   ]
  },
  {
   "metadata": {},
   "cell_type": "markdown",
   "source": "Only dimensionless quantities can be converted to plain Python scalars."
  },
  {
   "metadata": {},
   "cell_type": "code",
   "outputs": [],
   "execution_count": null,
   "source": "float((3. * u.mV).to_decimal(u.volt))"
  },
  {
   "metadata": {},
   "cell_type": "code",
   "outputs": [],
   "execution_count": null,
   "source": "float((3. * u.kmeter / (4. * u.meter)).to_decimal())"
  },
  {
   "metadata": {},
   "cell_type": "code",
   "outputs": [],
   "execution_count": null,
   "source": "int((6. * u.kmeter / (4. * u.meter)).to_decimal())"
  }
 ],
 "metadata": {
  "kernelspec": {
   "display_name": "Python 3",
   "language": "python",
   "name": "python3"
  },
  "language_info": {
   "codemirror_mode": {
    "name": "ipython",
    "version": 3
   },
   "file_extension": ".py",
   "mimetype": "text/x-python",
   "name": "python",
   "nbconvert_exporter": "python",
   "pygments_lexer": "ipython3",
   "version": "3.10.13"
  }
 },
 "nbformat": 4,
 "nbformat_minor": 2
}
