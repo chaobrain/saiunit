{
 "cells": [
  {
   "metadata": {},
   "cell_type": "markdown",
   "source": [
    "# Quantity\n",
    "\n",
    "[![Colab](https://colab.research.google.com/assets/colab-badge.svg)](https://colab.research.google.com/github/chaobrain/saiunit/blob/master/docs/physical_units/quantity.ipynb)\n",
    "[![Open in Kaggle](https://kaggle.com/static/images/open-in-kaggle.svg)](https://kaggle.com/kernels/welcome?src=https://github.com/chaobrain/saiunit/blob/master/docs/physical_units/quantity.ipynb)"
   ]
  },
  {
   "metadata": {},
   "cell_type": "markdown",
   "source": [
    "saiunit generates standard names for units, combining the unit name (e.g. “siemens”) with a prefixes (e.g. “m”), and also generates squared and cubed versions by appending a number. For example, the units “msiemens”, “siemens2”, “usiemens3” are all predefined. You can import these units from the package `brianunit` – accordingly, an `from saiunit import *` will result in everything being imported.\n",
    "\n",
    "We recommend importing only the units you need, to have a cleaner namespace. For example, `import saiunit as u` and then using `u.msiemens` instead of `msiemens`."
   ]
  },
  {
   "metadata": {},
   "cell_type": "code",
   "outputs": [],
   "execution_count": null,
   "source": "import saiunit as u"
  },
  {
   "metadata": {},
   "cell_type": "markdown",
   "source": [
    "In the underlying design, Quantity consists of two attributes (mantissa and unit), and the specific value it represents is calculated by the formula below:\n",
    "\n",
    "$$\n",
    "\\mathrm{value} = \\mathrm{mantissa} \\times \\mathrm{unit.base} ^ \\mathrm{unit.scale} * \\text{dimension}, \n",
    "$$\n",
    "\n",
    "where `unit.base` is the base for this unit (as the base of the exponent) and `unit.scale` is the scale for this unit (as the integer exponent of base)\n",
    "\n",
    "\n",
    "A quantity is equivalent to the scientific notation of \n",
    "\n",
    "$$\n",
    "\\mathrm{mantissa} \\times \\mathrm{base}^\\mathrm{scale}\n",
    "$$\n",
    "\n",
    "For example, ``5 * ms`` is equivalent to ``5 * 10^-3 * s = 5 * 0.001 * s = 0.005 * s``.   \n"
   ]
  },
  {
   "metadata": {},
   "cell_type": "markdown",
   "source": "You can generate a physical quantity by multiplying a scalar or ndarray with its physical unit:"
  },
  {
   "metadata": {},
   "cell_type": "code",
   "outputs": [],
   "execution_count": null,
   "source": [
    "tau = 20 * u.ms\n",
    "tau"
   ]
  },
  {
   "metadata": {},
   "cell_type": "code",
   "outputs": [],
   "execution_count": null,
   "source": [
    "rates = [10, 20, 30] * u.Hz\n",
    "rates"
   ]
  },
  {
   "metadata": {},
   "cell_type": "code",
   "outputs": [],
   "execution_count": null,
   "source": [
    "rates = [[10, 20, 30], [20, 30, 40]] * u.Hz\n",
    "rates"
   ]
  },
  {
   "metadata": {},
   "cell_type": "markdown",
   "source": "saiunit will check the consistency of operations on units and raise an error for dimensionality mismatches:"
  },
  {
   "metadata": {},
   "cell_type": "code",
   "outputs": [],
   "execution_count": null,
   "source": [
    "try:\n",
    "    tau += 1  # ms? second?\n",
    "except Exception as e:\n",
    "    print(e)"
   ]
  },
  {
   "metadata": {},
   "cell_type": "code",
   "outputs": [],
   "execution_count": null,
   "source": [
    "try:\n",
    "    3 * u.kgram + 3 * u.amp\n",
    "except Exception as e:\n",
    "    print(e)"
   ]
  },
  {
   "metadata": {},
   "cell_type": "markdown",
   "source": "## Creating Quantity Instances"
  },
  {
   "metadata": {},
   "cell_type": "markdown",
   "source": "Creating a Quantity object can be accomplished in several ways, categorized based on the type of input used. Here, we present the methods grouped by their input types and characteristics for better clarity."
  },
  {
   "metadata": {},
   "cell_type": "code",
   "outputs": [],
   "execution_count": null,
   "source": "import jax.numpy as jnp"
  },
  {
   "metadata": {},
   "cell_type": "markdown",
   "source": [
    "### Scalar and Array Multiplication\n",
    "- Multiplying a Scalar with a Unit"
   ]
  },
  {
   "metadata": {},
   "cell_type": "code",
   "outputs": [],
   "execution_count": null,
   "source": "5 * u.ms"
  },
  {
   "metadata": {},
   "cell_type": "markdown",
   "source": "- Multiplying a Jax nunmpy value type with a Unit:"
  },
  {
   "metadata": {},
   "cell_type": "code",
   "outputs": [],
   "execution_count": null,
   "source": "jnp.float64(5) * u.ms"
  },
  {
   "metadata": {},
   "cell_type": "markdown",
   "source": "- Multiplying a Jax numpy array with a Unit:"
  },
  {
   "metadata": {},
   "cell_type": "code",
   "outputs": [],
   "execution_count": null,
   "source": "jnp.array([1, 2, 3]) * u.ms"
  },
  {
   "metadata": {},
   "cell_type": "markdown",
   "source": "- Multiplying a List with a Unit:"
  },
  {
   "metadata": {},
   "cell_type": "code",
   "outputs": [],
   "execution_count": null,
   "source": "[1, 2, 3] * u.ms"
  },
  {
   "metadata": {},
   "cell_type": "markdown",
   "source": "### Direct Quantity Creation"
  },
  {
   "metadata": {},
   "cell_type": "markdown",
   "source": "- Creating a Quantity Directly with a Value"
  },
  {
   "metadata": {},
   "cell_type": "code",
   "outputs": [],
   "execution_count": null,
   "source": "u.Quantity(5)"
  },
  {
   "metadata": {},
   "cell_type": "markdown",
   "source": "- Creating a Quantity Directly with a Value and Unit"
  },
  {
   "metadata": {},
   "cell_type": "code",
   "outputs": [],
   "execution_count": null,
   "source": "u.Quantity(5, unit=u.ms)"
  },
  {
   "metadata": {},
   "cell_type": "markdown",
   "source": "- Creating a Quantity with a Jax numpy Array of Values and a Unit"
  },
  {
   "metadata": {},
   "cell_type": "code",
   "outputs": [],
   "execution_count": null,
   "source": "u.Quantity(jnp.array([1, 2, 3]), unit=u.ms)"
  },
  {
   "metadata": {},
   "cell_type": "markdown",
   "source": "- Creating a Quantity with a List of Values and a Unit"
  },
  {
   "metadata": {},
   "cell_type": "code",
   "outputs": [],
   "execution_count": null,
   "source": "u.Quantity([1, 2, 3], unit=u.ms)"
  },
  {
   "metadata": {},
   "cell_type": "markdown",
   "source": "- Creating a Quantity with a List of Quantities"
  },
  {
   "metadata": {},
   "cell_type": "code",
   "outputs": [],
   "execution_count": null,
   "source": "u.Quantity([500 * u.ms, 1 * u.second])"
  },
  {
   "metadata": {},
   "cell_type": "markdown",
   "source": "- Using the with_units Method"
  },
  {
   "metadata": {},
   "cell_type": "code",
   "outputs": [],
   "execution_count": null,
   "source": "u.Quantity.with_unit(jnp.array([0.5, 1]), unit=u.second)"
  },
  {
   "metadata": {},
   "cell_type": "markdown",
   "source": [
    "### Unitless Quantity\n",
    "Quantities can be unitless, which means they have no units. If there is no unit provided, the quantity is assumed to be unitless. The following are examples of creating unitless quantities:"
   ]
  },
  {
   "metadata": {},
   "cell_type": "code",
   "outputs": [],
   "execution_count": null,
   "source": "u.Quantity([1, 2, 3])"
  },
  {
   "metadata": {},
   "cell_type": "code",
   "outputs": [],
   "execution_count": null,
   "source": "u.Quantity(jnp.array([1, 2, 3]))"
  },
  {
   "metadata": {},
   "cell_type": "code",
   "outputs": [],
   "execution_count": null,
   "source": "u.Quantity([])"
  },
  {
   "metadata": {},
   "cell_type": "markdown",
   "source": [
    "### Illegal Quantity Creation\n",
    "The following are examples of illegal quantity creation:"
   ]
  },
  {
   "metadata": {},
   "cell_type": "code",
   "outputs": [],
   "execution_count": null,
   "source": [
    "try:\n",
    "    u.Quantity([500 * u.ms, 1])\n",
    "except Exception as e:\n",
    "    print(e)"
   ]
  },
  {
   "metadata": {},
   "cell_type": "code",
   "outputs": [],
   "execution_count": null,
   "source": [
    "try:\n",
    "    u.Quantity([\"some\", \"nonsense\"])\n",
    "except Exception as e:\n",
    "    print(e)"
   ]
  },
  {
   "metadata": {},
   "cell_type": "code",
   "outputs": [],
   "execution_count": null,
   "source": [
    "try:\n",
    "    u.Quantity([500 * u.ms, 1 * u.volt])\n",
    "except Exception as e:\n",
    "    print(e)"
   ]
  },
  {
   "metadata": {},
   "cell_type": "markdown",
   "source": [
    "### Creating Functions\n",
    "You can create functions that return quantities. The following are examples of creating functions that return quantities:"
   ]
  },
  {
   "metadata": {},
   "cell_type": "markdown",
   "source": [
    "#### `saiunit.math.array` & `saiunit.math.asarray`\n",
    "Convert the input to a quantity or array.\n",
    "\n",
    "  If unit is provided, the input will be checked whether it has the same unit as the provided unit.\n",
    "  (If they have same unit but different scale, the input will be converted to the provided unit.)\n",
    "  If unit is not provided, the input will be converted to an array.\n"
   ]
  },
  {
   "metadata": {},
   "cell_type": "code",
   "outputs": [],
   "execution_count": null,
   "source": "u.math.asarray([1, 2, 3])                       # return a jax.Array"
  },
  {
   "metadata": {},
   "cell_type": "code",
   "outputs": [],
   "execution_count": null,
   "source": [
    "# check if the input has the same unit as the provided unit\n",
    "u.math.asarray([1, 2, 3] * u.second, unit=u.second)    # return a Quantity"
   ]
  },
  {
   "metadata": {},
   "cell_type": "code",
   "outputs": [],
   "execution_count": null,
   "source": [
    "# Same unit, but different scale\n",
    "u.math.asarray([1, 2, 3] * u.msecond, unit=u.second)    # return a Quantity"
   ]
  },
  {
   "metadata": {},
   "cell_type": "code",
   "outputs": [],
   "execution_count": null,
   "source": [
    "# fails because the input has a different unit\n",
    "try:\n",
    "    u.math.asarray([1 * u.second, 2 * u.second], unit=u.ampere)\n",
    "except Exception as e:\n",
    "    print(e)"
   ]
  },
  {
   "metadata": {},
   "cell_type": "markdown",
   "source": [
    "#### More Functions\n",
    "Other functions that can be used to create quantities are:\n",
    "- `saiunit.math.arange`\n",
    "- `saiunit.math.array_spilt`\n",
    "- `saiunit.math.linespace`\n",
    "- `saiunit.math.logspace`\n",
    "- `saiunit.math.meshgrid`\n",
    "- `saiunit.math.vandermode`\n",
    "- Can use with Quantity\n",
    "  - `saiunit.math.full`\n",
    "  - `saiunit.math.empty`\n",
    "  - `saiunit.math.ones`\n",
    "  - `saiunit.math.zeros`\n",
    "  - `saiunit.math.full_like`\n",
    "  - `saiunit.math.empty_like`\n",
    "  - `saiunit.math.ones_like`\n",
    "  - `saiunit.math.zeros_like`\n",
    "  - `saiunit.math.fill_diagonal`\n",
    "- Can use with unit keyword\n",
    "  - `saiunit.math.eye`\n",
    "  - `saiunit.math.identity`\n",
    "  - `saiunit.math.tri`\n",
    "  - `saiunit.math.diag`\n",
    "  - `saiunit.math.tril`\n",
    "  - `saiunit.math.triu`\n",
    "\n",
    "See the [Array Creation Documentation](https://saiunit.readthedocs.io/mathematical_functions/array_creation.html) for more information."
   ]
  },
  {
   "metadata": {},
   "cell_type": "markdown",
   "source": [
    "## Converting to Different Units\n",
    "\n",
    "You can convert a quantity to a different unit using the `to_decimal` method. The following are examples of converting quantities to different units:"
   ]
  },
  {
   "metadata": {},
   "cell_type": "code",
   "outputs": [],
   "execution_count": null,
   "source": [
    "q = (1, 2, 3) * u.second\n",
    "q"
   ]
  },
  {
   "metadata": {},
   "cell_type": "code",
   "outputs": [],
   "execution_count": null,
   "source": "q.to_decimal(u.msecond)"
  },
  {
   "metadata": {},
   "cell_type": "markdown",
   "source": "saiunit will check the consistency of operations on units and raise an error for dimensionality mismatches:"
  },
  {
   "metadata": {},
   "cell_type": "code",
   "outputs": [],
   "execution_count": null,
   "source": [
    "try:\n",
    "    q.to_decimal(u.ampere)\n",
    "except Exception as e:\n",
    "    print(e)"
   ]
  },
  {
   "metadata": {},
   "cell_type": "markdown",
   "source": "## Attributes of a Quantity"
  },
  {
   "metadata": {},
   "cell_type": "markdown",
   "source": [
    "The important attributes of a `Quantity` object are:\n",
    "- `mantissa`: the mantissa of the quantity\n",
    "- `unit`: the unit of the quantity\n",
    "- `dim`: the dimension of the unit of the quantity\n",
    "- `ndim`: the number of dimensions of quantity's value\n",
    "- `shape`: the shape of the quantity's value\n",
    "- `size`: the size of the quantity's value\n",
    "- `dtype`: the dtype of the quantity's value"
   ]
  },
  {
   "metadata": {},
   "cell_type": "markdown",
   "source": "### An example"
  },
  {
   "metadata": {},
   "cell_type": "code",
   "outputs": [],
   "execution_count": null,
   "source": [
    "rates = [[10., 20., 30.], [20., 30., 40.]] * u.Hz\n",
    "rates"
   ]
  },
  {
   "metadata": {},
   "cell_type": "code",
   "outputs": [],
   "execution_count": null,
   "source": "rates.mantissa"
  },
  {
   "metadata": {},
   "cell_type": "code",
   "outputs": [],
   "execution_count": null,
   "source": "rates.dim"
  },
  {
   "metadata": {},
   "cell_type": "code",
   "outputs": [],
   "execution_count": null,
   "source": "rates.ndim, rates.shape, rates.size, rates.dtype"
  },
  {
   "metadata": {},
   "cell_type": "markdown",
   "source": "## Arithmetic Functions"
  },
  {
   "metadata": {},
   "cell_type": "markdown",
   "source": "Like Numpy and Jax numpy, arithmetic operators on arrays apply elementwise."
  },
  {
   "metadata": {},
   "cell_type": "code",
   "outputs": [],
   "execution_count": null,
   "source": [
    "a = [20, 30, 40, 50] * u.mV\n",
    "b = jnp.arange(4) * u.mV\n",
    "b"
   ]
  },
  {
   "metadata": {},
   "cell_type": "markdown",
   "source": "### Addition and Subtraction"
  },
  {
   "metadata": {},
   "cell_type": "markdown",
   "source": "Addition and subtraction of quantities need to have the same units and keep the units in the result."
  },
  {
   "metadata": {},
   "cell_type": "code",
   "outputs": [],
   "execution_count": null,
   "source": [
    "c = a - b\n",
    "c"
   ]
  },
  {
   "metadata": {},
   "cell_type": "code",
   "outputs": [],
   "execution_count": null,
   "source": "c + b"
  },
  {
   "metadata": {},
   "cell_type": "markdown",
   "source": "### Multiplication and Division"
  },
  {
   "metadata": {},
   "cell_type": "markdown",
   "source": "Multiplication and division of quantities multiply and divide the values and add and subtract the dimensions of the units."
  },
  {
   "metadata": {},
   "cell_type": "code",
   "outputs": [],
   "execution_count": null,
   "source": [
    "A = jnp.array([[1, 2], [3, 4]]) * u.mV\n",
    "B = jnp.array([[5, 6], [7, 8]]) * u.mV\n",
    "\n",
    "A, B"
   ]
  },
  {
   "metadata": {},
   "cell_type": "code",
   "outputs": [],
   "execution_count": null,
   "source": "A * B # element-wise multiplication"
  },
  {
   "metadata": {},
   "cell_type": "code",
   "outputs": [],
   "execution_count": null,
   "source": "A @ B # matrix multiplication"
  },
  {
   "metadata": {},
   "cell_type": "code",
   "outputs": [],
   "execution_count": null,
   "source": "A.dot(B) # matrix multiplication"
  },
  {
   "metadata": {},
   "cell_type": "code",
   "outputs": [],
   "execution_count": null,
   "source": "A / 2 # divide by a scalar"
  },
  {
   "metadata": {},
   "cell_type": "markdown",
   "source": "if the unit of result is unitless, the unit is removed and returned as jax.Array"
  },
  {
   "metadata": {},
   "cell_type": "code",
   "outputs": [],
   "execution_count": null,
   "source": "A / (2 * u.mV) # divide by a quantity, return jax array"
  },
  {
   "metadata": {},
   "cell_type": "code",
   "outputs": [],
   "execution_count": null,
   "source": "A / (2 * u.mA) # divide by a quantity, return quantity"
  },
  {
   "metadata": {},
   "cell_type": "markdown",
   "source": "### Power"
  },
  {
   "metadata": {},
   "cell_type": "markdown",
   "source": "The power operator raises the value of the quantity to the power of the scalar, and multiplies the unit by the scalar."
  },
  {
   "metadata": {},
   "cell_type": "code",
   "outputs": [],
   "execution_count": null,
   "source": "A"
  },
  {
   "metadata": {},
   "cell_type": "code",
   "outputs": [],
   "execution_count": null,
   "source": "A ** 2 # element-wise power"
  },
  {
   "metadata": {},
   "cell_type": "markdown",
   "source": "## Built-in Functions"
  },
  {
   "metadata": {},
   "cell_type": "markdown",
   "source": [
    "saiunit provides a number of built-in functions in `Quantity` class to perform operations on quantities. These functions are:\n",
    "- unary operations\n",
    "    - positive(+)\n",
    "    - negative(-)\n",
    "    - absolute(abs)\n",
    "    - invert(~)\n",
    "- logical operations\n",
    "    - all\n",
    "    - any\n",
    "- shape operations\n",
    "    - reshape\n",
    "    - resize\n",
    "    - squeeze\n",
    "    - unsqueeze\n",
    "    - spilt\n",
    "    - swapaxes\n",
    "    - transpose\n",
    "    - ravel\n",
    "    - take\n",
    "    - repeat\n",
    "    - diagonal\n",
    "    - trace\n",
    "- mathematical functions\n",
    "    - nonzero\n",
    "    - argmax\n",
    "    - argmin\n",
    "    - argsort\n",
    "    - var\n",
    "    - round\n",
    "    - std\n",
    "    - sum\n",
    "    - cumsum\n",
    "    - cumprod\n",
    "    - max\n",
    "    - mean\n",
    "    - min\n",
    "    - ptp\n",
    "    - clip\n",
    "    - conj\n",
    "    - dot\n",
    "    - fill\n",
    "    - item\n",
    "    - prod\n",
    "    - clamp\n",
    "    - sort\n",
    "\n",
    "For more details on these functions, refer to the [documentation](https://saiunit.readthedocs.io/saiunit/apis/generated/saiunit.Quantity.html)."
   ]
  },
  {
   "metadata": {},
   "cell_type": "markdown",
   "source": "## Indexing, Slicing and Iterating"
  },
  {
   "metadata": {},
   "cell_type": "markdown",
   "source": "One-dimensional Quantity can be indexed, sliced and iterated over, much like lists and other Python sequences."
  },
  {
   "metadata": {},
   "cell_type": "code",
   "outputs": [],
   "execution_count": null,
   "source": [
    "a = jnp.arange(10) ** 3 * u.mV\n",
    "a"
   ]
  },
  {
   "metadata": {},
   "cell_type": "code",
   "outputs": [],
   "execution_count": null,
   "source": "a[2]"
  },
  {
   "metadata": {},
   "cell_type": "code",
   "outputs": [],
   "execution_count": null,
   "source": "a[2:5]"
  },
  {
   "metadata": {},
   "cell_type": "markdown",
   "source": "Only same dimension Quantity can be set to a slice of a Quantity."
  },
  {
   "metadata": {},
   "cell_type": "code",
   "outputs": [],
   "execution_count": null,
   "source": [
    "# equivalent to a[0:6:2] = 1000;\n",
    "# from start to position 6, exclusive, set every 2nd element to 1000\n",
    "a[:6:2] = 1000 * u.mV\n",
    "a"
   ]
  },
  {
   "metadata": {},
   "cell_type": "code",
   "outputs": [],
   "execution_count": null,
   "source": "a[::-1] # reversed a"
  },
  {
   "metadata": {},
   "cell_type": "code",
   "outputs": [],
   "execution_count": null,
   "source": [
    "for i in a:\n",
    "    print(i**(1 / 3.))"
   ]
  },
  {
   "metadata": {},
   "cell_type": "markdown",
   "source": "Multidimensional Quantity can have one index per axis. These indices are given in a tuple separated by commas:"
  },
  {
   "metadata": {},
   "cell_type": "code",
   "outputs": [],
   "execution_count": null,
   "source": [
    "def f(x, y):\n",
    "    return 10 * x + y\n",
    "b = jnp.fromfunction(f, (5, 4), dtype=jnp.int32) * u.mV\n",
    "b"
   ]
  },
  {
   "metadata": {},
   "cell_type": "code",
   "outputs": [],
   "execution_count": null,
   "source": "b[2, 3]"
  },
  {
   "metadata": {},
   "cell_type": "code",
   "outputs": [],
   "execution_count": null,
   "source": "b[0:5, 1]  # each row in the second column of b"
  },
  {
   "metadata": {},
   "cell_type": "code",
   "outputs": [],
   "execution_count": null,
   "source": "b[:, 1]  # equivalent to the previous example"
  },
  {
   "metadata": {},
   "cell_type": "code",
   "outputs": [],
   "execution_count": null,
   "source": "b[1:3, :]  # each column in the second and third row of b"
  },
  {
   "metadata": {},
   "cell_type": "markdown",
   "source": "When fewer indices are provided than the number of axes, the missing indices are considered complete slices:"
  },
  {
   "metadata": {},
   "cell_type": "code",
   "outputs": [],
   "execution_count": null,
   "source": "b[-1]"
  },
  {
   "metadata": {},
   "cell_type": "markdown",
   "source": [
    "The expression within brackets in b[i] is treated as an i followed by as many instances of : as needed to represent the remaining axes. NumPy also allows you to write this using dots as b[i, ...].\n",
    "\n",
    "The dots (...) represent as many colons as needed to produce a complete indexing tuple. For example, if x is a Quantity with 5 axes, then\n",
    "- x[1, 2, ...] is equivalent to x[1, 2, :, :, :],\n",
    "- x[..., 3] to x[:, :, :, :, 3] and\n",
    "- x[4, ..., 5, :] to x[4, :, :, 5, :]."
   ]
  },
  {
   "metadata": {},
   "cell_type": "code",
   "outputs": [],
   "execution_count": null,
   "source": [
    "c = jnp.array([[[0, 1, 2], [10, 12, 13]], [[100, 101, 102], [110, 112, 113]]]) * u.mV # a 3D array (two stacked 2D arrays)\n",
    "c.shape"
   ]
  },
  {
   "metadata": {},
   "cell_type": "code",
   "outputs": [],
   "execution_count": null,
   "source": "c[1, ...] # same as c[1, :, :] or c[1]"
  },
  {
   "metadata": {},
   "cell_type": "code",
   "outputs": [],
   "execution_count": null,
   "source": "c[..., 2] # same as c[:, :, 2]"
  },
  {
   "metadata": {},
   "cell_type": "markdown",
   "source": "Iterating over multidimensional Quantity is done with respect to the first axis:"
  },
  {
   "metadata": {},
   "cell_type": "code",
   "outputs": [],
   "execution_count": null,
   "source": [
    "for row in b:\n",
    "    print(row)"
   ]
  },
  {
   "metadata": {},
   "cell_type": "markdown",
   "source": [
    "## Operating on Subsets\n",
    "\n",
    "`.at` method can be used to operate on a subset of the Quantity. The following are examples of operating on subsets of a Quantity:"
   ]
  },
  {
   "metadata": {},
   "cell_type": "code",
   "outputs": [],
   "execution_count": null,
   "source": [
    "q = jnp.arange(5.0) * u.mV\n",
    "q"
   ]
  },
  {
   "metadata": {},
   "cell_type": "code",
   "outputs": [],
   "execution_count": null,
   "source": "q.at[2].add(10 * u.mV)"
  },
  {
   "metadata": {},
   "cell_type": "code",
   "outputs": [],
   "execution_count": null,
   "source": "q.at[10].add(10 * u.mV)  # out-of-bounds indices are ignored"
  },
  {
   "metadata": {},
   "cell_type": "code",
   "outputs": [],
   "execution_count": null,
   "source": "q.at[20].add(10 * u.mV, mode='clip') # out-of-bounds indices are clipped"
  },
  {
   "metadata": {},
   "cell_type": "code",
   "outputs": [],
   "execution_count": null,
   "source": "q.at[2].get()"
  },
  {
   "metadata": {},
   "cell_type": "code",
   "outputs": [],
   "execution_count": null,
   "source": "q.at[20].get()  # out-of-bounds indices clipped"
  },
  {
   "metadata": {},
   "cell_type": "code",
   "outputs": [],
   "execution_count": null,
   "source": "q.at[20].get(mode='fill')  # out-of-bounds indices filled with NaN"
  },
  {
   "metadata": {},
   "cell_type": "markdown",
   "source": "saiunit will check the consistency of operations on units and raise an error for dimensionality mismatches:"
  },
  {
   "metadata": {},
   "cell_type": "code",
   "outputs": [],
   "execution_count": null,
   "source": [
    "try:\n",
    "    q.at[2].add(10)\n",
    "except Exception as e:\n",
    "    print(e)"
   ]
  },
  {
   "metadata": {},
   "cell_type": "markdown",
   "source": "saiunit also allows customized fill values for the `at` method:"
  },
  {
   "metadata": {},
   "cell_type": "code",
   "outputs": [],
   "execution_count": null,
   "source": "q.at[20].get(mode='fill', fill_value=-1 * u.mV)  # custom fill value"
  },
  {
   "metadata": {},
   "cell_type": "code",
   "outputs": [],
   "execution_count": null,
   "source": [
    "try:\n",
    "    q.at[20].get(mode='fill', fill_value=-1)\n",
    "except Exception as e:\n",
    "    print(e)"
   ]
  },
  {
   "metadata": {},
   "cell_type": "markdown",
   "source": [
    "## Plotting Quantities\n",
    "\n",
    "`Quantity` objects can be conveniently plotted using [Matplotlib](https://matplotlib.org/). This feature will be turned on automatically if Matplotlib is installed. The following are examples of plotting quantities:"
   ]
  },
  {
   "metadata": {},
   "cell_type": "markdown",
   "source": "Then `Quantity` objects can be passed to matplotlib plotting functions. The axis labels are automatically labeled with the unit of the quantity:\n"
  },
  {
   "metadata": {},
   "cell_type": "code",
   "outputs": [],
   "execution_count": null,
   "source": [
    "import saiunit as bu\n",
    "\n",
    "from matplotlib import pyplot as plt\n",
    "\n",
    "plt.figure()\n",
    "plt.plot([1, 2, 3] * bu.meter)"
   ]
  },
  {
   "metadata": {},
   "cell_type": "code",
   "outputs": [],
   "execution_count": null,
   "source": "plt.plot([1, 2, 3] * bu.meter, [1, 2, 3] * bu.second)"
  },
  {
   "metadata": {},
   "cell_type": "markdown",
   "source": "saiunit also supports plotting different scales of quantities with same unit on the same axis:"
  },
  {
   "metadata": {},
   "cell_type": "code",
   "outputs": [],
   "execution_count": null,
   "source": [
    "plt.plot([101, 125, 150] * bu.ms, [101, 125, 150] * bu.cmeter)\n",
    "plt.plot([0.1, 0.15, 0.2] * bu.second, [111, 135, 160] * bu.cmeter)"
   ]
  },
  {
   "metadata": {},
   "cell_type": "markdown",
   "source": "It is not allowed to plot quantities with different units on the same axis:"
  },
  {
   "metadata": {},
   "cell_type": "code",
   "outputs": [],
   "execution_count": null,
   "source": [
    "try:\n",
    "    plt.plot([101, 125, 150] * bu.ms, [101, 125, 150] * bu.cmeter)\n",
    "    plt.plot([0.1, 0.15, 0.2] * bu.second, [111, 135, 160] * bu.cmeter)\n",
    "    plt.plot([0.1, 0.15, 0.2] * bu.second, [131, 155, 180] * bu.mA)\n",
    "except Exception as e:\n",
    "    print(e)\n"
   ]
  }
 ],
 "metadata": {
  "kernelspec": {
   "display_name": "brainpy-dev",
   "language": "python",
   "name": "python3"
  },
  "language_info": {
   "codemirror_mode": {
    "name": "ipython",
    "version": 3
   },
   "file_extension": ".py",
   "mimetype": "text/x-python",
   "name": "python",
   "nbconvert_exporter": "python",
   "pygments_lexer": "ipython3",
   "version": "3.10.13"
  }
 },
 "nbformat": 4,
 "nbformat_minor": 2
}
