{
 "cells": [
  {
   "cell_type": "markdown",
   "metadata": {},
   "source": [
    "# Jax Lax Functions\n",
    "\n",
    "[![Colab](https://colab.research.google.com/assets/colab-badge.svg)](https://colab.research.google.com/github/chaobrain/saiunit/blob/master/docs/mathematical_functions/lax_functions.ipynb)\n",
    "[![Open in Kaggle](https://kaggle.com/static/images/open-in-kaggle.svg)](https://kaggle.com/kernels/welcome?src=https://github.com/chaobrain/saiunit/blob/master/docs/mathematical_functions/lax_functions.ipynb)"
   ]
  },
  {
   "cell_type": "markdown",
   "metadata": {},
   "source": [
    "In `saiunit.lax` we reimplemented almost all important Jax Lax functions compatible with both `Quantity` and arrays.\n",
    "For compatible with `Quantity`, we categorized the functions into serveral groups.\n",
    "\n",
    "- [Lax Array Creation](https://saiunit.readthedocs.io/en/latest/apis/saiunit.lax.html#array-creation-functions)\n",
    "- [Lax Accept Unitless](https://saiunit.readthedocs.io/en/latest/apis/saiunit.lax.html#functions-that-accepting-unitless)\n",
    "- [Lax Changing Unit](https://saiunit.readthedocs.io/en/latest/apis/saiunit.lax.html#functions-that-changing-unit)\n",
    "- [Lax Keeping Unit](https://saiunit.readthedocs.io/en/latest/apis/saiunit.lax.html#functions-that-keeping-unit)\n",
    "- [Lax Removing Unit](https://saiunit.readthedocs.io/en/latest/apis/saiunit.lax.html#functions-that-removing-unit)\n",
    "- [Lax Linear Algebra Functions](https://saiunit.readthedocs.io/en/latest/apis/saiunit.lax.html#linalg-functions)\n",
    "- [More Functions](https://saiunit.readthedocs.io/en/latest/apis/saiunit.lax.html#other-functions)"
   ]
  }
 ],
 "metadata": {
  "language_info": {
   "name": "python"
  }
 },
 "nbformat": 4,
 "nbformat_minor": 2
}
