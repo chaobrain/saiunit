{
 "cells": [
  {
   "cell_type": "markdown",
   "metadata": {},
   "source": [
    "# Array Creation\n",
    "\n",
    "[![Colab](https://colab.research.google.com/assets/colab-badge.svg)](https://colab.research.google.com/github/chaobrain/saiunit/blob/master/docs/mathematical_functions/array_creation.ipynb)\n",
    "[![Open in Kaggle](https://kaggle.com/static/images/open-in-kaggle.svg)](https://kaggle.com/kernels/welcome?src=https://github.com/chaobrain/saiunit/blob/master/docs/mathematical_functions/array_creation.ipynb)"
   ]
  },
  {
   "cell_type": "markdown",
   "metadata": {},
   "source": "The functions listed below are designed to create `array` or `Quantity` with specific properties, such as filled with a certain value, identity matrices, or arrays with ones on the diagonal. These functions are part of the `saiunit.math` module and are tailored to handle both numerical `array` and `Quantity` with units."
  },
  {
   "cell_type": "code",
   "metadata": {
    "ExecuteTime": {
     "end_time": "2024-11-06T15:16:50.002869Z",
     "start_time": "2024-11-06T15:16:49.999038Z"
    }
   },
   "source": [
    "import saiunit as u\n",
    "import jax.numpy as jnp"
   ],
   "outputs": [],
   "execution_count": 68
  },
  {
   "cell_type": "markdown",
   "metadata": {},
   "source": [
    "## `saiunit.math.array` & `saiunit.math.asarray`\n",
    "\n",
    "Convert the input to a quantity or array.\n",
    "\n",
    "  If unit is provided, the input will be checked whether it has the same unit as the provided unit.\n",
    "  (If they have same dimension but different magnitude, the input will be converted to the provided unit.)\n",
    "  If unit is not provided, the input will be converted to an array."
   ]
  },
  {
   "cell_type": "code",
   "metadata": {
    "ExecuteTime": {
     "end_time": "2024-11-06T15:16:50.327179Z",
     "start_time": "2024-11-06T15:16:50.320191Z"
    }
   },
   "source": [
    "u.math.asarray([1, 2, 3])                       # return a jax.Array"
   ],
   "outputs": [
    {
     "data": {
      "text/plain": "Array([1, 2, 3], dtype=int32)"
     },
     "execution_count": 69,
     "metadata": {},
     "output_type": "execute_result"
    }
   ],
   "execution_count": 69
  },
  {
   "cell_type": "code",
   "metadata": {
    "ExecuteTime": {
     "end_time": "2024-11-06T15:16:50.380414Z",
     "start_time": "2024-11-06T15:16:50.374266Z"
    }
   },
   "source": [
    "u.math.asarray([1, 2, 3], unit=u.second)    # return a Quantity"
   ],
   "outputs": [
    {
     "data": {
      "text/plain": "Array([1, 2, 3], dtype=int32)"
     },
     "execution_count": 70,
     "metadata": {},
     "output_type": "execute_result"
    }
   ],
   "execution_count": 70
  },
  {
   "cell_type": "code",
   "metadata": {
    "ExecuteTime": {
     "end_time": "2024-11-06T15:16:50.422413Z",
     "start_time": "2024-11-06T15:16:50.412738Z"
    }
   },
   "source": [
    "# check if the input has the same unit as the provided unit\n",
    "u.math.asarray([1 * u.second, 2 * u.second], unit=u.second)"
   ],
   "outputs": [
    {
     "data": {
      "text/plain": "ArrayImpl([1, 2]) * second"
     },
     "execution_count": 71,
     "metadata": {},
     "output_type": "execute_result"
    }
   ],
   "execution_count": 71
  },
  {
   "cell_type": "code",
   "metadata": {
    "ExecuteTime": {
     "end_time": "2024-11-06T15:16:50.456844Z",
     "start_time": "2024-11-06T15:16:50.452585Z"
    }
   },
   "source": [
    "# fails because the input has a different unit\n",
    "try:\n",
    "    u.math.asarray([1 * u.second, 2 * u.second], unit=u.ampere)\n",
    "except Exception as e:\n",
    "    print(e)"
   ],
   "outputs": [
    {
     "name": "stdout",
     "output_type": "stream",
     "text": [
      "Cannot convert to a unit with different dimensions. (units are s and A ).\n"
     ]
    }
   ],
   "execution_count": 72
  },
  {
   "cell_type": "markdown",
   "metadata": {},
   "source": [
    "## `saiunit.math.arange`\n",
    "Return evenly spaced values within a given interval."
   ]
  },
  {
   "cell_type": "code",
   "metadata": {
    "ExecuteTime": {
     "end_time": "2024-11-06T15:16:50.535873Z",
     "start_time": "2024-11-06T15:16:50.530569Z"
    }
   },
   "source": [
    "u.math.arange(5)                                    # return a jax.Array"
   ],
   "outputs": [
    {
     "data": {
      "text/plain": "Array([0, 1, 2, 3, 4], dtype=int32)"
     },
     "execution_count": 73,
     "metadata": {},
     "output_type": "execute_result"
    }
   ],
   "execution_count": 73
  },
  {
   "cell_type": "code",
   "metadata": {
    "ExecuteTime": {
     "end_time": "2024-11-06T15:16:50.562628Z",
     "start_time": "2024-11-06T15:16:50.555566Z"
    }
   },
   "source": [
    "u.math.arange(5 * u.second, step=1 * u.second) # return a Quantity"
   ],
   "outputs": [
    {
     "data": {
      "text/plain": "ArrayImpl([0, 1, 2, 3, 4]) * second"
     },
     "execution_count": 74,
     "metadata": {},
     "output_type": "execute_result"
    }
   ],
   "execution_count": 74
  },
  {
   "cell_type": "code",
   "metadata": {
    "ExecuteTime": {
     "end_time": "2024-11-06T15:16:50.615021Z",
     "start_time": "2024-11-06T15:16:50.608229Z"
    }
   },
   "source": [
    "u.math.arange(3, 9, 1)                                          # return a jax.Array"
   ],
   "outputs": [
    {
     "data": {
      "text/plain": "Array([3, 4, 5, 6, 7, 8], dtype=int32)"
     },
     "execution_count": 75,
     "metadata": {},
     "output_type": "execute_result"
    }
   ],
   "execution_count": 75
  },
  {
   "cell_type": "code",
   "metadata": {
    "ExecuteTime": {
     "end_time": "2024-11-06T15:16:50.671559Z",
     "start_time": "2024-11-06T15:16:50.664632Z"
    }
   },
   "source": [
    "u.math.arange(3 * u.second, 9 * u.second, 1 * u.second)   # return a Quantity"
   ],
   "outputs": [
    {
     "data": {
      "text/plain": "ArrayImpl([3, 4, 5, 6, 7, 8]) * second"
     },
     "execution_count": 76,
     "metadata": {},
     "output_type": "execute_result"
    }
   ],
   "execution_count": 76
  },
  {
   "cell_type": "markdown",
   "metadata": {},
   "source": [
    "## `saiunit.math.array_split`\n",
    "Split an array into multiple sub-arrays."
   ]
  },
  {
   "cell_type": "code",
   "metadata": {
    "ExecuteTime": {
     "end_time": "2024-11-06T15:16:50.738931Z",
     "start_time": "2024-11-06T15:16:50.733783Z"
    }
   },
   "source": [
    "a = jnp.arange(9)\n",
    "\n",
    "u.math.array_split(a, 3)      # return a jax.Array"
   ],
   "outputs": [
    {
     "data": {
      "text/plain": "[Array([0, 1, 2], dtype=int32),\n Array([3, 4, 5], dtype=int32),\n Array([6, 7, 8], dtype=int32)]"
     },
     "execution_count": 77,
     "metadata": {},
     "output_type": "execute_result"
    }
   ],
   "execution_count": 77
  },
  {
   "cell_type": "code",
   "metadata": {
    "ExecuteTime": {
     "end_time": "2024-11-06T15:16:50.833744Z",
     "start_time": "2024-11-06T15:16:50.824983Z"
    }
   },
   "source": [
    "q = jnp.arange(9) * u.second\n",
    "\n",
    "u.math.array_split(q, 3)   # return a Quantity"
   ],
   "outputs": [
    {
     "data": {
      "text/plain": "[ArrayImpl([0, 1, 2]) * second,\n ArrayImpl([3, 4, 5]) * second,\n ArrayImpl([6, 7, 8]) * second]"
     },
     "execution_count": 78,
     "metadata": {},
     "output_type": "execute_result"
    }
   ],
   "execution_count": 78
  },
  {
   "cell_type": "markdown",
   "metadata": {},
   "source": [
    "## `saiunit.math.linspace`\n",
    "Return evenly spaced numbers over a specified interval."
   ]
  },
  {
   "cell_type": "code",
   "metadata": {
    "ExecuteTime": {
     "end_time": "2024-11-06T15:16:50.853493Z",
     "start_time": "2024-11-06T15:16:50.847069Z"
    }
   },
   "source": [
    "u.math.linspace(0, 10, 5)                               # return a jax.Array"
   ],
   "outputs": [
    {
     "data": {
      "text/plain": "Array([ 0. ,  2.5,  5. ,  7.5, 10. ], dtype=float32)"
     },
     "execution_count": 79,
     "metadata": {},
     "output_type": "execute_result"
    }
   ],
   "execution_count": 79
  },
  {
   "cell_type": "code",
   "metadata": {
    "ExecuteTime": {
     "end_time": "2024-11-06T15:16:50.909155Z",
     "start_time": "2024-11-06T15:16:50.902612Z"
    }
   },
   "source": [
    "u.math.linspace(0 * u.second, 10 * u.second, 5)    # return a Quantity"
   ],
   "outputs": [
    {
     "data": {
      "text/plain": "ArrayImpl([ 0. ,  2.5,  5. ,  7.5, 10. ], dtype=float32) * second"
     },
     "execution_count": 80,
     "metadata": {},
     "output_type": "execute_result"
    }
   ],
   "execution_count": 80
  },
  {
   "cell_type": "markdown",
   "metadata": {},
   "source": [
    "## `saiunit.math.logspace`\n",
    "Return numbers spaced evenly on a log scale."
   ]
  },
  {
   "cell_type": "code",
   "metadata": {
    "ExecuteTime": {
     "end_time": "2024-11-06T15:16:50.964046Z",
     "start_time": "2024-11-06T15:16:50.958403Z"
    }
   },
   "source": [
    "u.math.logspace(0, 10, 5)                               # return a jax.Array"
   ],
   "outputs": [
    {
     "data": {
      "text/plain": "Array([1.0000000e+00, 3.1622775e+02, 1.0000000e+05, 3.1622776e+07,\n       1.0000000e+10], dtype=float32)"
     },
     "execution_count": 81,
     "metadata": {},
     "output_type": "execute_result"
    }
   ],
   "execution_count": 81
  },
  {
   "cell_type": "code",
   "metadata": {
    "ExecuteTime": {
     "end_time": "2024-11-06T15:16:51.040734Z",
     "start_time": "2024-11-06T15:16:51.034660Z"
    }
   },
   "source": [
    "u.math.logspace(0 * u.second, 10 * u.second, 5)    # return a Quantity"
   ],
   "outputs": [
    {
     "data": {
      "text/plain": "ArrayImpl([1.0000000e+00, 3.1622775e+02, 1.0000000e+05, 3.1622776e+07,\n           1.0000000e+10], dtype=float32) * second"
     },
     "execution_count": 82,
     "metadata": {},
     "output_type": "execute_result"
    }
   ],
   "execution_count": 82
  },
  {
   "cell_type": "markdown",
   "metadata": {},
   "source": [
    "## `saiunit.math.meshgrid`\n",
    "Return coordinate matrices from coordinate vectors."
   ]
  },
  {
   "cell_type": "code",
   "metadata": {
    "ExecuteTime": {
     "end_time": "2024-11-06T15:16:51.071246Z",
     "start_time": "2024-11-06T15:16:51.064372Z"
    }
   },
   "source": [
    "x = jnp.array([1, 2, 3])\n",
    "y = jnp.array([4, 5])\n",
    "\n",
    "u.math.meshgrid(x, y)           # return a jax.Array"
   ],
   "outputs": [
    {
     "data": {
      "text/plain": "[Array([[1, 2, 3],\n        [1, 2, 3]], dtype=int32),\n Array([[4, 4, 4],\n        [5, 5, 5]], dtype=int32)]"
     },
     "execution_count": 83,
     "metadata": {},
     "output_type": "execute_result"
    }
   ],
   "execution_count": 83
  },
  {
   "cell_type": "code",
   "metadata": {
    "ExecuteTime": {
     "end_time": "2024-11-06T15:16:51.141487Z",
     "start_time": "2024-11-06T15:16:51.131379Z"
    }
   },
   "source": [
    "x_q = jnp.array([1, 2, 3]) * u.second\n",
    "y_q = jnp.array([4, 5]) * u.second\n",
    "\n",
    "u.math.meshgrid(x_q, y_q)    # return a Quantity"
   ],
   "outputs": [
    {
     "data": {
      "text/plain": "[ArrayImpl([[1, 2, 3],\n            [1, 2, 3]]) * second,\n ArrayImpl([[4, 4, 4],\n            [5, 5, 5]]) * second]"
     },
     "execution_count": 84,
     "metadata": {},
     "output_type": "execute_result"
    }
   ],
   "execution_count": 84
  },
  {
   "cell_type": "markdown",
   "metadata": {},
   "source": [
    "## `saiunit.math.vander`\n",
    "Generate a Vandermonde matrix.\n",
    "\n",
    "The Vandermonde matrix is a matrix with the terms of a geometric progression in each row.\n",
    "  The geometric progression is defined by the vector `x` and the number of columns `N`.\n"
   ]
  },
  {
   "cell_type": "code",
   "metadata": {
    "ExecuteTime": {
     "end_time": "2024-11-06T15:16:51.173467Z",
     "start_time": "2024-11-06T15:16:51.167189Z"
    }
   },
   "source": [
    "a = jnp.array([1, 2, 3])\n",
    "\n",
    "u.math.vander(a)                       # return a jax.Array"
   ],
   "outputs": [
    {
     "data": {
      "text/plain": "Array([[1, 1, 1],\n       [4, 2, 1],\n       [9, 3, 1]], dtype=int32)"
     },
     "execution_count": 85,
     "metadata": {},
     "output_type": "execute_result"
    }
   ],
   "execution_count": 85
  },
  {
   "cell_type": "markdown",
   "metadata": {},
   "source": [
    "## Can use with `Quantity`\n",
    "\n",
    "The functions below can be used with `Quantity` with units."
   ]
  },
  {
   "cell_type": "markdown",
   "metadata": {},
   "source": [
    "### `saiunit.math.full`\n",
    "Returns a quantity or array filled with a specific value."
   ]
  },
  {
   "cell_type": "code",
   "metadata": {
    "ExecuteTime": {
     "end_time": "2024-11-06T15:16:51.239990Z",
     "start_time": "2024-11-06T15:16:51.235281Z"
    }
   },
   "source": [
    "u.math.full(3, 4)                   # return a jax.Array"
   ],
   "outputs": [
    {
     "data": {
      "text/plain": "Array([4, 4, 4], dtype=int32, weak_type=True)"
     },
     "execution_count": 86,
     "metadata": {},
     "output_type": "execute_result"
    }
   ],
   "execution_count": 86
  },
  {
   "cell_type": "code",
   "metadata": {
    "ExecuteTime": {
     "end_time": "2024-11-06T15:16:51.296885Z",
     "start_time": "2024-11-06T15:16:51.291022Z"
    }
   },
   "source": [
    "u.math.full(3, 4 * u.second)    # return a Quantity"
   ],
   "outputs": [
    {
     "data": {
      "text/plain": "ArrayImpl([4, 4, 4]) * second"
     },
     "execution_count": 87,
     "metadata": {},
     "output_type": "execute_result"
    }
   ],
   "execution_count": 87
  },
  {
   "cell_type": "markdown",
   "metadata": {},
   "source": [
    "### `saiunit.math.empty`\n",
    "Return a new quantity or array of given shape and type, without initializing entries."
   ]
  },
  {
   "cell_type": "code",
   "metadata": {
    "ExecuteTime": {
     "end_time": "2024-11-06T15:16:51.355294Z",
     "start_time": "2024-11-06T15:16:51.350033Z"
    }
   },
   "source": [
    "u.math.empty((2, 2))                    # return a jax.Array"
   ],
   "outputs": [
    {
     "data": {
      "text/plain": "Array([[0., 0.],\n       [0., 0.]], dtype=float32)"
     },
     "execution_count": 88,
     "metadata": {},
     "output_type": "execute_result"
    }
   ],
   "execution_count": 88
  },
  {
   "cell_type": "code",
   "metadata": {
    "ExecuteTime": {
     "end_time": "2024-11-06T15:16:51.383292Z",
     "start_time": "2024-11-06T15:16:51.375795Z"
    }
   },
   "source": [
    "u.math.empty((2, 2), unit=u.second) # return a Quantity"
   ],
   "outputs": [
    {
     "data": {
      "text/plain": "ArrayImpl([[0., 0.],\n           [0., 0.]], dtype=float32) * second"
     },
     "execution_count": 89,
     "metadata": {},
     "output_type": "execute_result"
    }
   ],
   "execution_count": 89
  },
  {
   "cell_type": "markdown",
   "metadata": {},
   "source": [
    "### `saiunit.math.ones`\n",
    "Returns a new quantity or array of given shape and type, filled with ones."
   ]
  },
  {
   "cell_type": "code",
   "metadata": {
    "ExecuteTime": {
     "end_time": "2024-11-06T15:16:51.459426Z",
     "start_time": "2024-11-06T15:16:51.454582Z"
    }
   },
   "source": [
    "u.math.ones((2, 2))                     # return a jax.Array"
   ],
   "outputs": [
    {
     "data": {
      "text/plain": "Array([[1., 1.],\n       [1., 1.]], dtype=float32)"
     },
     "execution_count": 90,
     "metadata": {},
     "output_type": "execute_result"
    }
   ],
   "execution_count": 90
  },
  {
   "cell_type": "code",
   "metadata": {
    "ExecuteTime": {
     "end_time": "2024-11-06T15:16:51.483565Z",
     "start_time": "2024-11-06T15:16:51.475995Z"
    }
   },
   "source": [
    "u.math.ones((2, 2), unit=u.second)  # return a Quantity"
   ],
   "outputs": [
    {
     "data": {
      "text/plain": "ArrayImpl([[1., 1.],\n           [1., 1.]], dtype=float32) * second"
     },
     "execution_count": 91,
     "metadata": {},
     "output_type": "execute_result"
    }
   ],
   "execution_count": 91
  },
  {
   "cell_type": "markdown",
   "metadata": {},
   "source": [
    "### `saiunit.math.zeros`\n",
    "Returns a new quantity or array of given shape and type, filled with ones."
   ]
  },
  {
   "cell_type": "code",
   "metadata": {
    "ExecuteTime": {
     "end_time": "2024-11-06T15:16:51.501568Z",
     "start_time": "2024-11-06T15:16:51.495960Z"
    }
   },
   "source": [
    "u.math.zeros((2, 2))                    # return a jax.Array"
   ],
   "outputs": [
    {
     "data": {
      "text/plain": "Array([[0., 0.],\n       [0., 0.]], dtype=float32)"
     },
     "execution_count": 92,
     "metadata": {},
     "output_type": "execute_result"
    }
   ],
   "execution_count": 92
  },
  {
   "cell_type": "code",
   "metadata": {
    "ExecuteTime": {
     "end_time": "2024-11-06T15:16:51.558976Z",
     "start_time": "2024-11-06T15:16:51.552773Z"
    }
   },
   "source": [
    "u.math.zeros((2, 2), unit=u.second) # return a Quantity"
   ],
   "outputs": [
    {
     "data": {
      "text/plain": "ArrayImpl([[0., 0.],\n           [0., 0.]], dtype=float32) * second"
     },
     "execution_count": 93,
     "metadata": {},
     "output_type": "execute_result"
    }
   ],
   "execution_count": 93
  },
  {
   "cell_type": "markdown",
   "metadata": {},
   "source": [
    "### `saiunit.math.full_like`\n",
    "Return a new quantity or array with the same shape and type as a given array or quantity, filled with `fill_value`.\n"
   ]
  },
  {
   "cell_type": "code",
   "metadata": {
    "ExecuteTime": {
     "end_time": "2024-11-06T15:16:51.642471Z",
     "start_time": "2024-11-06T15:16:51.637045Z"
    }
   },
   "source": [
    "a = jnp.array([1, 2, 3])\n",
    "\n",
    "u.math.full_like(a, 4)                       # return a jax.Array"
   ],
   "outputs": [
    {
     "data": {
      "text/plain": "Array([4, 4, 4], dtype=int32)"
     },
     "execution_count": 94,
     "metadata": {},
     "output_type": "execute_result"
    }
   ],
   "execution_count": 94
  },
  {
   "cell_type": "code",
   "outputs": [
    {
     "name": "stdout",
     "output_type": "stream",
     "text": [
      "fill_value must be unitless when a is not a Quantity.\n"
     ]
    }
   ],
   "source": [
    "try:\n",
    "    u.math.full_like(a, 4 * u.second)         # return a Quantity\n",
    "except Exception as e:\n",
    "    print(e)"
   ],
   "metadata": {
    "collapsed": false,
    "ExecuteTime": {
     "end_time": "2024-11-06T15:16:51.698975Z",
     "start_time": "2024-11-06T15:16:51.695213Z"
    }
   },
   "execution_count": 95
  },
  {
   "cell_type": "markdown",
   "metadata": {},
   "source": [
    "### `saiunit.math.empty_like`\n",
    "Return a new quantity or array with the same shape and type as a given array.\n"
   ]
  },
  {
   "cell_type": "code",
   "metadata": {
    "ExecuteTime": {
     "end_time": "2024-11-06T15:16:51.750793Z",
     "start_time": "2024-11-06T15:16:51.745684Z"
    }
   },
   "source": [
    "a = jnp.array([1, 2, 3])\n",
    "\n",
    "u.math.empty_like(a)       # return a jax.Array"
   ],
   "outputs": [
    {
     "data": {
      "text/plain": "Array([0, 0, 0], dtype=int32)"
     },
     "execution_count": 96,
     "metadata": {},
     "output_type": "execute_result"
    }
   ],
   "execution_count": 96
  },
  {
   "cell_type": "code",
   "metadata": {
    "ExecuteTime": {
     "end_time": "2024-11-06T15:16:51.778331Z",
     "start_time": "2024-11-06T15:16:51.772555Z"
    }
   },
   "source": [
    "q = jnp.array([1, 2, 3]) * u.second\n",
    "\n",
    "u.math.empty_like(q)    # return a Quantity"
   ],
   "outputs": [
    {
     "data": {
      "text/plain": "ArrayImpl([0, 0, 0]) * second"
     },
     "execution_count": 97,
     "metadata": {},
     "output_type": "execute_result"
    }
   ],
   "execution_count": 97
  },
  {
   "cell_type": "markdown",
   "metadata": {},
   "source": [
    "### `saiunit.math.ones_like`\n",
    "Return a new quantity or array with the same shape and type as a given array, filled with ones."
   ]
  },
  {
   "cell_type": "code",
   "metadata": {
    "ExecuteTime": {
     "end_time": "2024-11-06T15:16:51.885738Z",
     "start_time": "2024-11-06T15:16:51.880612Z"
    }
   },
   "source": [
    "a = jnp.array([1, 2, 3])\n",
    "\n",
    "u.math.ones_like(a)       # return a jax.Array"
   ],
   "outputs": [
    {
     "data": {
      "text/plain": "Array([1, 1, 1], dtype=int32)"
     },
     "execution_count": 98,
     "metadata": {},
     "output_type": "execute_result"
    }
   ],
   "execution_count": 98
  },
  {
   "cell_type": "code",
   "metadata": {
    "ExecuteTime": {
     "end_time": "2024-11-06T15:16:51.923387Z",
     "start_time": "2024-11-06T15:16:51.917046Z"
    }
   },
   "source": [
    "q = jnp.array([1, 2, 3]) * u.second\n",
    "\n",
    "u.math.ones_like(q)    # return a Quantity"
   ],
   "outputs": [
    {
     "data": {
      "text/plain": "ArrayImpl([1, 1, 1]) * second"
     },
     "execution_count": 99,
     "metadata": {},
     "output_type": "execute_result"
    }
   ],
   "execution_count": 99
  },
  {
   "cell_type": "markdown",
   "metadata": {},
   "source": [
    "### `saiunit.math.zeros_like`\n",
    "Return a new quantity or array with the same shape and type as a given array, filled with zeros."
   ]
  },
  {
   "cell_type": "code",
   "metadata": {
    "ExecuteTime": {
     "end_time": "2024-11-06T15:16:51.948023Z",
     "start_time": "2024-11-06T15:16:51.942806Z"
    }
   },
   "source": [
    "a = jnp.array([1, 2, 3])\n",
    "\n",
    "u.math.zeros_like(a)       # return a jax.Array"
   ],
   "outputs": [
    {
     "data": {
      "text/plain": "Array([0, 0, 0], dtype=int32)"
     },
     "execution_count": 100,
     "metadata": {},
     "output_type": "execute_result"
    }
   ],
   "execution_count": 100
  },
  {
   "cell_type": "code",
   "metadata": {
    "ExecuteTime": {
     "end_time": "2024-11-06T15:16:51.980008Z",
     "start_time": "2024-11-06T15:16:51.973574Z"
    }
   },
   "source": [
    "q = jnp.array([1, 2, 3]) * u.second\n",
    "\n",
    "u.math.zeros_like(q)    # return a Quantity"
   ],
   "outputs": [
    {
     "data": {
      "text/plain": "ArrayImpl([0, 0, 0]) * second"
     },
     "execution_count": 101,
     "metadata": {},
     "output_type": "execute_result"
    }
   ],
   "execution_count": 101
  },
  {
   "cell_type": "markdown",
   "metadata": {},
   "source": [
    "### `saiunit.math.fill_diagonal`\n",
    "Fill the main diagonal of the given array of any dimensionality."
   ]
  },
  {
   "cell_type": "code",
   "metadata": {
    "ExecuteTime": {
     "end_time": "2024-11-06T15:16:52.046471Z",
     "start_time": "2024-11-06T15:16:52.039725Z"
    }
   },
   "source": [
    "a = jnp.zeros((3, 3))\n",
    "\n",
    "u.math.fill_diagonal(a, 4)      # return a jax.Array"
   ],
   "outputs": [
    {
     "data": {
      "text/plain": "Array([[4., 0., 0.],\n       [0., 4., 0.],\n       [0., 0., 4.]], dtype=float32)"
     },
     "execution_count": 102,
     "metadata": {},
     "output_type": "execute_result"
    }
   ],
   "execution_count": 102
  },
  {
   "cell_type": "code",
   "metadata": {
    "ExecuteTime": {
     "end_time": "2024-11-06T15:16:52.075652Z",
     "start_time": "2024-11-06T15:16:52.065996Z"
    }
   },
   "source": [
    "q = jnp.zeros((3, 3)) * u.second\n",
    "\n",
    "u.math.fill_diagonal(q, 4 * u.second)   # return a Quantity"
   ],
   "outputs": [
    {
     "data": {
      "text/plain": "ArrayImpl([[4., 0., 0.],\n           [0., 4., 0.],\n           [0., 0., 4.]], dtype=float32) * second"
     },
     "execution_count": 103,
     "metadata": {},
     "output_type": "execute_result"
    }
   ],
   "execution_count": 103
  },
  {
   "cell_type": "markdown",
   "metadata": {},
   "source": [
    "## Can use with `unit` keyword\n",
    "\n",
    "The functions below can be used with the `unit` keyword."
   ]
  },
  {
   "cell_type": "markdown",
   "metadata": {},
   "source": [
    "### `saiunit.math.eye`\n",
    "Returns a 2-D quantity or array with ones on the diagonal and zeros elsewhere."
   ]
  },
  {
   "cell_type": "code",
   "metadata": {
    "ExecuteTime": {
     "end_time": "2024-11-06T15:16:52.114045Z",
     "start_time": "2024-11-06T15:16:52.108879Z"
    }
   },
   "source": [
    "u.math.eye(3)                       # return a jax.Array"
   ],
   "outputs": [
    {
     "data": {
      "text/plain": "Array([[1., 0., 0.],\n       [0., 1., 0.],\n       [0., 0., 1.]], dtype=float32)"
     },
     "execution_count": 104,
     "metadata": {},
     "output_type": "execute_result"
    }
   ],
   "execution_count": 104
  },
  {
   "cell_type": "code",
   "metadata": {
    "ExecuteTime": {
     "end_time": "2024-11-06T15:16:52.143883Z",
     "start_time": "2024-11-06T15:16:52.134487Z"
    }
   },
   "source": [
    "u.math.eye(3, unit=u.second)    # return a Quantity"
   ],
   "outputs": [
    {
     "data": {
      "text/plain": "ArrayImpl([[1., 0., 0.],\n           [0., 1., 0.],\n           [0., 0., 1.]], dtype=float32) * second"
     },
     "execution_count": 105,
     "metadata": {},
     "output_type": "execute_result"
    }
   ],
   "execution_count": 105
  },
  {
   "cell_type": "markdown",
   "metadata": {},
   "source": [
    "### `saiunit.math.identity`\n",
    "Return the identity Quantity or array."
   ]
  },
  {
   "cell_type": "code",
   "metadata": {
    "ExecuteTime": {
     "end_time": "2024-11-06T15:16:52.211169Z",
     "start_time": "2024-11-06T15:16:52.206267Z"
    }
   },
   "source": [
    "u.math.identity(3)                  # return a jax.Array"
   ],
   "outputs": [
    {
     "data": {
      "text/plain": "Array([[1., 0., 0.],\n       [0., 1., 0.],\n       [0., 0., 1.]], dtype=float32)"
     },
     "execution_count": 106,
     "metadata": {},
     "output_type": "execute_result"
    }
   ],
   "execution_count": 106
  },
  {
   "cell_type": "code",
   "metadata": {
    "ExecuteTime": {
     "end_time": "2024-11-06T15:16:52.247779Z",
     "start_time": "2024-11-06T15:16:52.238798Z"
    }
   },
   "source": [
    "u.math.identity(3, unit=u.second)    # return a Quantity"
   ],
   "outputs": [
    {
     "data": {
      "text/plain": "ArrayImpl([[1., 0., 0.],\n           [0., 1., 0.],\n           [0., 0., 1.]], dtype=float32) * second"
     },
     "execution_count": 107,
     "metadata": {},
     "output_type": "execute_result"
    }
   ],
   "execution_count": 107
  },
  {
   "cell_type": "markdown",
   "metadata": {},
   "source": [
    "### `saiunit.math.tri`\n",
    "Returns A quantity or an array with ones at and below the given diagonal and zeros elsewhere.\n"
   ]
  },
  {
   "cell_type": "code",
   "metadata": {
    "ExecuteTime": {
     "end_time": "2024-11-06T15:16:52.292720Z",
     "start_time": "2024-11-06T15:16:52.288050Z"
    }
   },
   "source": [
    "u.math.tri(3)                       # return a jax.Array"
   ],
   "outputs": [
    {
     "data": {
      "text/plain": "Array([[1., 0., 0.],\n       [1., 1., 0.],\n       [1., 1., 1.]], dtype=float32)"
     },
     "execution_count": 108,
     "metadata": {},
     "output_type": "execute_result"
    }
   ],
   "execution_count": 108
  },
  {
   "cell_type": "code",
   "metadata": {
    "ExecuteTime": {
     "end_time": "2024-11-06T15:16:52.360648Z",
     "start_time": "2024-11-06T15:16:52.351511Z"
    }
   },
   "source": [
    "u.math.tri(3, unit=u.second)    # return a Quantity"
   ],
   "outputs": [
    {
     "data": {
      "text/plain": "ArrayImpl([[1., 0., 0.],\n           [1., 1., 0.],\n           [1., 1., 1.]], dtype=float32) * second"
     },
     "execution_count": 109,
     "metadata": {},
     "output_type": "execute_result"
    }
   ],
   "execution_count": 109
  },
  {
   "cell_type": "markdown",
   "metadata": {},
   "source": [
    "### `saiunit.math.diag`\n",
    "Extract a diagonal or construct a diagonal array."
   ]
  },
  {
   "cell_type": "code",
   "metadata": {
    "ExecuteTime": {
     "end_time": "2024-11-06T15:16:52.407338Z",
     "start_time": "2024-11-06T15:16:52.402486Z"
    }
   },
   "source": [
    "a = jnp.array([1, 2, 3])\n",
    "\n",
    "u.math.diag(a)                       # return a jax.Array"
   ],
   "outputs": [
    {
     "data": {
      "text/plain": "Array([[1, 0, 0],\n       [0, 2, 0],\n       [0, 0, 3]], dtype=int32)"
     },
     "execution_count": 110,
     "metadata": {},
     "output_type": "execute_result"
    }
   ],
   "execution_count": 110
  },
  {
   "cell_type": "code",
   "metadata": {
    "ExecuteTime": {
     "end_time": "2024-11-06T15:16:52.452826Z",
     "start_time": "2024-11-06T15:16:52.443914Z"
    }
   },
   "source": [
    "u.math.diag(a, unit=u.second)    # return a Quantity"
   ],
   "outputs": [
    {
     "data": {
      "text/plain": "ArrayImpl([[1, 0, 0],\n           [0, 2, 0],\n           [0, 0, 3]]) * second"
     },
     "execution_count": 111,
     "metadata": {},
     "output_type": "execute_result"
    }
   ],
   "execution_count": 111
  },
  {
   "cell_type": "markdown",
   "metadata": {},
   "source": [
    "### `saiunit.math.tril`\n",
    "Lower triangle of an array.\n",
    "\n",
    "  Return a copy of a matrix with the elements above the `k`-th diagonal zeroed.\n",
    "  For quantities or arrays with ``ndim`` exceeding 2, `tril` will apply to the final two axes.\n"
   ]
  },
  {
   "cell_type": "code",
   "metadata": {
    "ExecuteTime": {
     "end_time": "2024-11-06T15:16:52.513220Z",
     "start_time": "2024-11-06T15:16:52.508200Z"
    }
   },
   "source": [
    "a = jnp.ones((3, 3))\n",
    "\n",
    "u.math.diag(a)                       # return a jax.Array"
   ],
   "outputs": [
    {
     "data": {
      "text/plain": "Array([1., 1., 1.], dtype=float32)"
     },
     "execution_count": 112,
     "metadata": {},
     "output_type": "execute_result"
    }
   ],
   "execution_count": 112
  },
  {
   "cell_type": "code",
   "metadata": {
    "ExecuteTime": {
     "end_time": "2024-11-06T15:16:52.520002Z",
     "start_time": "2024-11-06T15:16:52.514295Z"
    }
   },
   "source": [
    "u.math.diag(a, unit=u.second)    # return a Quantity"
   ],
   "outputs": [
    {
     "data": {
      "text/plain": "ArrayImpl([1., 1., 1.], dtype=float32) * second"
     },
     "execution_count": 113,
     "metadata": {},
     "output_type": "execute_result"
    }
   ],
   "execution_count": 113
  },
  {
   "cell_type": "markdown",
   "metadata": {},
   "source": [
    "### `saiunit.math.triu`\n",
    "Upper triangle of an array.\n",
    "\n",
    "  Return a copy of a matrix with the elements below the `k`-th diagonal zeroed.\n",
    "  For quantities or arrays with ``ndim`` exceeding 2, `triu` will apply to the final two axes."
   ]
  },
  {
   "cell_type": "code",
   "metadata": {
    "ExecuteTime": {
     "end_time": "2024-11-06T15:16:52.537985Z",
     "start_time": "2024-11-06T15:16:52.532385Z"
    }
   },
   "source": [
    "a = jnp.ones((3, 3))\n",
    "\n",
    "u.math.tril(a)                       # return a jax.Array"
   ],
   "outputs": [
    {
     "data": {
      "text/plain": "Array([[1., 0., 0.],\n       [1., 1., 0.],\n       [1., 1., 1.]], dtype=float32)"
     },
     "execution_count": 114,
     "metadata": {},
     "output_type": "execute_result"
    }
   ],
   "execution_count": 114
  },
  {
   "cell_type": "code",
   "metadata": {
    "ExecuteTime": {
     "end_time": "2024-11-06T15:16:52.558117Z",
     "start_time": "2024-11-06T15:16:52.550269Z"
    }
   },
   "source": [
    "u.math.tril(a, unit=u.second)    # return a Quantity"
   ],
   "outputs": [
    {
     "data": {
      "text/plain": "ArrayImpl([[1., 0., 0.],\n           [1., 1., 0.],\n           [1., 1., 1.]], dtype=float32) * second"
     },
     "execution_count": 115,
     "metadata": {},
     "output_type": "execute_result"
    }
   ],
   "execution_count": 115
  }
 ],
 "metadata": {
  "kernelspec": {
   "display_name": "Python 3",
   "language": "python",
   "name": "python3"
  },
  "language_info": {
   "codemirror_mode": {
    "name": "ipython",
    "version": 3
   },
   "file_extension": ".py",
   "mimetype": "text/x-python",
   "name": "python",
   "nbconvert_exporter": "python",
   "pygments_lexer": "ipython3",
   "version": "3.10.13"
  }
 },
 "nbformat": 4,
 "nbformat_minor": 2
}
