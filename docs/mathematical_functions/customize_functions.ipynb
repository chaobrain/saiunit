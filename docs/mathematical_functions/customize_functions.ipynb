{
 "cells": [
  {
   "cell_type": "markdown",
   "metadata": {},
   "source": [
    "# Functions that Checking Units or Assigning Units\n",
    "\n",
    "[![Colab](https://colab.research.google.com/assets/colab-badge.svg)](https://colab.research.google.com/github/chaobrain/saiunit/blob/master/docs/mathematical_functions/customize_functions.ipynb)\n",
    "[![Open in Kaggle](https://kaggle.com/static/images/open-in-kaggle.svg)](https://kaggle.com/kernels/welcome?src=https://github.com/chaobrain/saiunit/blob/master/docs/mathematical_functions/customize_functions.ipynb)"
   ]
  },
  {
   "cell_type": "markdown",
   "metadata": {},
   "source": "In scientific computing, it is crucial to ensure that function parameters and return values have the correct units. To streamline this process, we can use the `saiunit.check_units` decorator to validate the units of function parameters and return values."
  },
  {
   "cell_type": "markdown",
   "metadata": {},
   "source": [
    "First, we need to import the necessary libraries and modules."
   ]
  },
  {
   "cell_type": "code",
   "execution_count": 45,
   "metadata": {},
   "outputs": [],
   "source": [
    "import saiunit\n",
    "from saiunit import volt, mV, meter, second, check_dims, check_units, assign_units, DimensionMismatchError, UnitMismatchError"
   ]
  },
  {
   "cell_type": "markdown",
   "metadata": {},
   "source": [
    "## Checking Units"
   ]
  },
  {
   "cell_type": "markdown",
   "metadata": {},
   "source": [
    "### `check_dims` Decorator"
   ]
  },
  {
   "cell_type": "markdown",
   "metadata": {},
   "source": [
    "The `check_dims` decorator is used to validate the dimensions of input arguments or return values of a function. It ensures that the dimensions match the expected dimensions, helping to avoid errors caused by unit mismatches.\n",
    "\n",
    "We will demonstrate the usage of `check_dims` through several examples."
   ]
  },
  {
   "cell_type": "markdown",
   "metadata": {},
   "source": [
    "#### Basic Usage\n",
    "We can use the `check_dims` decorator to validate whether the input arguments of a function have the expected units."
   ]
  },
  {
   "cell_type": "code",
   "execution_count": 40,
   "metadata": {},
   "outputs": [],
   "source": [
    "@check_dims(v=volt.dim)\n",
    "def a_function(v, x):\n",
    "    \"\"\"\n",
    "    v must have units of volt, and x can have any (or no) unit.\n",
    "    \"\"\"\n",
    "    pass"
   ]
  },
  {
   "cell_type": "markdown",
   "metadata": {},
   "source": [
    "##### Correct Dimensions\n",
    "The following calls are correct because the `v` argument has units of volt or are `strings` or `None`:"
   ]
  },
  {
   "cell_type": "code",
   "execution_count": 44,
   "metadata": {},
   "outputs": [],
   "source": [
    "a_function(3 * mV, 5 * second)\n",
    "a_function(5 * volt, \"something\")\n",
    "a_function([1, 2, 3] * volt, None)\n",
    "a_function([1 * volt, 2 * volt, 3 * volt], None)\n",
    "a_function(\"a string\", None)\n",
    "a_function(None, None)"
   ]
  },
  {
   "cell_type": "markdown",
   "metadata": {},
   "source": [
    "##### Incorrect Units\n",
    "The following calls will raise a `DimensionMismatchError` because the `v` argument does not have the expected units."
   ]
  },
  {
   "cell_type": "code",
   "execution_count": 46,
   "metadata": {},
   "outputs": [
    {
     "name": "stdout",
     "output_type": "stream",
     "text": [
      "Function 'a_function' expected a array with dimension metre ** 2 * kilogram * second ** -3 * amp ** -1 for argument 'v' but got '5 * second' (unit is s).\n",
      "Function 'a_function' expected a array with dimension metre ** 2 * kilogram * second ** -3 * amp ** -1 for argument 'v' but got '5 * Unit(10.0^0)' (unit is 1).\n",
      "Function 'a_function' expected a array with dimension metre ** 2 * kilogram * second ** -3 * amp ** -1 for argument 'v' but got '<object object at 0x00000193E267C540> * Unit(10.0^0)' (unit is 1).\n"
     ]
    }
   ],
   "source": [
    "try:\n",
    "    a_function(5 * second, None)\n",
    "except DimensionMismatchError as e:\n",
    "    print(e)\n",
    "    \n",
    "try:\n",
    "    a_function(5, None)\n",
    "except DimensionMismatchError as e:\n",
    "    print(e)\n",
    "    \n",
    "try:\n",
    "    a_function(object(), None)\n",
    "except DimensionMismatchError as e:\n",
    "    print(e)"
   ]
  },
  {
   "cell_type": "markdown",
   "metadata": {},
   "source": [
    "#### Validating Return Values\n",
    "\n",
    "The `check_dims` decorator can also be used to validate whether the return value of a function has the expected dimensions."
   ]
  },
  {
   "cell_type": "code",
   "execution_count": 47,
   "metadata": {},
   "outputs": [],
   "source": [
    "@check_dims(result=second.dim)\n",
    "def b_function(return_second):\n",
    "    \"\"\"\n",
    "    If return_second is True, return a value in seconds; otherwise, return a value in volts.\n",
    "    \"\"\"\n",
    "    if return_second:\n",
    "        return 5 * second\n",
    "    else:\n",
    "        return 3 * volt"
   ]
  },
  {
   "cell_type": "markdown",
   "metadata": {},
   "source": [
    "##### Correct Return Value\n",
    "The following call is correct because the return value has dimensions of seconds."
   ]
  },
  {
   "cell_type": "code",
   "execution_count": 48,
   "metadata": {},
   "outputs": [
    {
     "data": {
      "text/plain": [
       "5 * second"
      ]
     },
     "execution_count": 48,
     "metadata": {},
     "output_type": "execute_result"
    }
   ],
   "source": [
    "b_function(True)"
   ]
  },
  {
   "cell_type": "markdown",
   "metadata": {},
   "source": [
    "##### Incorrect Return Value\n",
    "The following call will raise a `DimensionMismatchError` because the return value has dimensions of volts instead of seconds."
   ]
  },
  {
   "cell_type": "code",
   "execution_count": 49,
   "metadata": {},
   "outputs": [
    {
     "name": "stdout",
     "output_type": "stream",
     "text": [
      "The return value of function 'b_function' was expected to have dimension s but was '3 * volt' (unit is m^2 kg s^-3 A^-1).\n"
     ]
    }
   ],
   "source": [
    "try:\n",
    "    b_function(False)\n",
    "except DimensionMismatchError as e:\n",
    "    print(e)"
   ]
  },
  {
   "cell_type": "markdown",
   "metadata": {},
   "source": [
    "#### Validating Multiple Return Values\n",
    "\n",
    "The `check_dims` decorator can also validate multiple return values to ensure they have the expected dimensions."
   ]
  },
  {
   "cell_type": "code",
   "execution_count": 51,
   "metadata": {},
   "outputs": [],
   "source": [
    "@check_dims(result=(second.dim, volt.dim))\n",
    "def d_function(true_result):\n",
    "    \"\"\"\n",
    "    If true_result is True, return values in seconds and volts; otherwise, return values in volts and seconds.\n",
    "    \"\"\"\n",
    "    if true_result:\n",
    "        return 5 * second, 3 * volt\n",
    "    else:\n",
    "        return 3 * volt, 5 * second"
   ]
  },
  {
   "cell_type": "markdown",
   "metadata": {},
   "source": [
    "##### Correct Return Values\n",
    "\n",
    "The following call is correct because the return values have dimensions of seconds and volts, respectively."
   ]
  },
  {
   "cell_type": "code",
   "execution_count": 52,
   "metadata": {},
   "outputs": [
    {
     "data": {
      "text/plain": [
       "(5 * second, 3 * volt)"
      ]
     },
     "execution_count": 52,
     "metadata": {},
     "output_type": "execute_result"
    }
   ],
   "source": [
    "d_function(True)"
   ]
  },
  {
   "cell_type": "markdown",
   "metadata": {},
   "source": [
    "##### Incorrect Return Values\n",
    "The following call will raise a `DimensionMismatchError` because the return values are in volts and seconds, which do not match the expected order."
   ]
  },
  {
   "cell_type": "code",
   "execution_count": 53,
   "metadata": {},
   "outputs": [
    {
     "name": "stdout",
     "output_type": "stream",
     "text": [
      "The return value of function 'd_function' was expected to have dimension s but was '3 * volt' (unit is m^2 kg s^-3 A^-1).\n"
     ]
    }
   ],
   "source": [
    "try:\n",
    "    d_function(False)\n",
    "except DimensionMismatchError as e:\n",
    "    print(e)"
   ]
  },
  {
   "cell_type": "markdown",
   "metadata": {},
   "source": [
    "#### Validating Dictionary Return Values\n",
    "The `check_dims` decorator can also validate dictionary return values to ensure they have the expected dimensions."
   ]
  },
  {
   "cell_type": "code",
   "execution_count": 55,
   "metadata": {},
   "outputs": [],
   "source": [
    "@check_dims(result={'u': second.dim, 'v': (volt.dim, meter.dim)})\n",
    "def d_function2(true_result):\n",
    "    \"\"\"\n",
    "    Return different dictionary results based on the value of true_result.\n",
    "    \"\"\"\n",
    "    if true_result == 0:\n",
    "        return {'u': 5 * second, 'v': (3 * volt, 2 * meter)}\n",
    "    elif true_result == 1:\n",
    "        return 3 * volt, 5 * second\n",
    "    else:\n",
    "        return {'u': 5 * second, 'v': (3 * volt, 2 * volt)}"
   ]
  },
  {
   "cell_type": "markdown",
   "metadata": {},
   "source": [
    "##### Correct Return Values\n",
    "The following call is correct because the return values match the expected dimensions."
   ]
  },
  {
   "cell_type": "code",
   "execution_count": 56,
   "metadata": {},
   "outputs": [
    {
     "data": {
      "text/plain": [
       "{'u': 5 * second, 'v': (3 * volt, 2 * meter)}"
      ]
     },
     "execution_count": 56,
     "metadata": {},
     "output_type": "execute_result"
    }
   ],
   "source": [
    "d_function2(0)"
   ]
  },
  {
   "cell_type": "markdown",
   "metadata": {},
   "source": [
    "##### Incorrect Return Values\n",
    "The following calls will raise a `TypeError` or `DimensionMismatchError` because the return values do not match the expected dimensions."
   ]
  },
  {
   "cell_type": "code",
   "execution_count": 57,
   "metadata": {},
   "outputs": [
    {
     "name": "stdout",
     "output_type": "stream",
     "text": [
      "Expected a return value of type {'u': second, 'v': (metre ** 2 * kilogram * second ** -3 * amp ** -1, metre)} but got (3 * volt, 5 * second)\n",
      "The return value of function 'd_function2' was expected to have dimension m but was '2 * volt' (unit is m^2 kg s^-3 A^-1).\n"
     ]
    }
   ],
   "source": [
    "try:\n",
    "    d_function2(1)\n",
    "except TypeError as e:\n",
    "    print(e)\n",
    "try:\n",
    "    d_function2(2)\n",
    "except DimensionMismatchError as e:\n",
    "    print(e)"
   ]
  },
  {
   "cell_type": "markdown",
   "metadata": {},
   "source": [
    "### `check_units` Decorator"
   ]
  },
  {
   "cell_type": "markdown",
   "metadata": {},
   "source": [
    "The `check_units` decorator is used to validate the dimensions of input arguments or return values of a function. It ensures that the dimensions match the expected dimensions, helping to avoid errors caused by unit mismatches.\n",
    "\n",
    "We will demonstrate the usage of `check_units` through several examples."
   ]
  },
  {
   "cell_type": "markdown",
   "metadata": {},
   "source": [
    "#### Basic Usage\n",
    "We can use the `check_units` decorator to validate whether the input arguments of a function have the expected units."
   ]
  },
  {
   "cell_type": "code",
   "execution_count": 59,
   "metadata": {},
   "outputs": [],
   "source": [
    "@check_units(v=volt)\n",
    "def a_function(v, x):\n",
    "    \"\"\"\n",
    "    v must have units of volt, and x can have any (or no) unit.\n",
    "    \"\"\"\n",
    "    pass"
   ]
  },
  {
   "cell_type": "markdown",
   "metadata": {},
   "source": [
    "##### Correct Dimensions\n",
    "The following calls are correct because the `v` argument has units of volt or are `strings` or `None`:"
   ]
  },
  {
   "cell_type": "code",
   "execution_count": 60,
   "metadata": {},
   "outputs": [],
   "source": [
    "a_function(3 * volt, 5 * second)\n",
    "a_function(5 * volt, \"something\")\n",
    "a_function([1, 2, 3] * volt, None)\n",
    "# lists that can be converted should also work\n",
    "a_function([1 * volt, 2 * volt, 3 * volt], None)\n",
    "# Strings and None are also allowed to pass\n",
    "a_function(\"a string\", None)\n",
    "a_function(None, None)"
   ]
  },
  {
   "cell_type": "markdown",
   "metadata": {},
   "source": [
    "##### Incorrect Units\n",
    "The following calls will raise a `DimensionMismatchError` because the `v` argument does not have the expected units."
   ]
  },
  {
   "cell_type": "code",
   "execution_count": 62,
   "metadata": {},
   "outputs": [
    {
     "name": "stdout",
     "output_type": "stream",
     "text": [
      "Function 'a_function' expected a array with unit volt for argument 'v' but got '5 * second' (unit is s).\n",
      "Function 'a_function' expected a array with unit volt for argument 'v' but got '5 * Unit(10.0^0)' (unit is Unit(10.0^0)).\n",
      "Function 'a_function' expected a array with unit volt for argument 'v' but got '<object object at 0x00000193E231BEE0> * Unit(10.0^0)' (unit is Unit(10.0^0)).\n"
     ]
    }
   ],
   "source": [
    "try:\n",
    "    a_function(5 * second, None)\n",
    "except UnitMismatchError as e:\n",
    "    print(e)\n",
    "    \n",
    "try:\n",
    "    a_function(5, None)\n",
    "except UnitMismatchError as e:\n",
    "    print(e)\n",
    "    \n",
    "try:\n",
    "    a_function(object(), None)\n",
    "except UnitMismatchError as e:\n",
    "    print(e)"
   ]
  },
  {
   "cell_type": "markdown",
   "metadata": {},
   "source": [
    "#### Validating Return Values\n",
    "\n",
    "The `check_units` decorator can also be used to validate whether the return value of a function has the expected units."
   ]
  },
  {
   "cell_type": "code",
   "execution_count": 63,
   "metadata": {},
   "outputs": [],
   "source": [
    "@check_units(result=second)\n",
    "def b_function(return_second):\n",
    "    \"\"\"\n",
    "    Return a value in seconds if return_second is True, otherwise return\n",
    "    a value in volt.\n",
    "    \"\"\"\n",
    "    if return_second:\n",
    "        return 5 * second\n",
    "    else:\n",
    "        return 3 * volt"
   ]
  },
  {
   "cell_type": "markdown",
   "metadata": {},
   "source": [
    "##### Correct Return Value\n",
    "The following call is correct because the return value has units of seconds."
   ]
  },
  {
   "cell_type": "code",
   "execution_count": 64,
   "metadata": {},
   "outputs": [
    {
     "data": {
      "text/plain": [
       "5 * second"
      ]
     },
     "execution_count": 64,
     "metadata": {},
     "output_type": "execute_result"
    }
   ],
   "source": [
    "b_function(True)"
   ]
  },
  {
   "cell_type": "markdown",
   "metadata": {},
   "source": [
    "##### Incorrect Return Value\n",
    "The following call will raise a `UnitMismatchError` because the return value has units of volts instead of seconds."
   ]
  },
  {
   "cell_type": "code",
   "execution_count": 66,
   "metadata": {},
   "outputs": [
    {
     "name": "stdout",
     "output_type": "stream",
     "text": [
      "The return value of function 'b_function' was expected to have unit V but was '3 * volt' (unit is V).\n"
     ]
    }
   ],
   "source": [
    "try:\n",
    "    b_function(False)\n",
    "except UnitMismatchError as e:\n",
    "    print(e)"
   ]
  },
  {
   "cell_type": "markdown",
   "metadata": {},
   "source": [
    "#### Validating Multiple Return Values\n",
    "\n",
    "The `check_units` decorator can also validate multiple return values to ensure they have the expected units."
   ]
  },
  {
   "cell_type": "code",
   "execution_count": 67,
   "metadata": {},
   "outputs": [],
   "source": [
    "@check_units(result=(second, volt))\n",
    "def d_function(true_result):\n",
    "    \"\"\"\n",
    "    Return a value in seconds if return_second is True, otherwise return\n",
    "    a value in volt.\n",
    "    \"\"\"\n",
    "    if true_result:\n",
    "        return 5 * second, 3 * volt\n",
    "    else:\n",
    "        return 3 * volt, 5 * second"
   ]
  },
  {
   "cell_type": "markdown",
   "metadata": {},
   "source": [
    "##### Correct Return Values\n",
    "\n",
    "The following call is correct because the return values have units of seconds and volts, respectively."
   ]
  },
  {
   "cell_type": "code",
   "execution_count": 68,
   "metadata": {},
   "outputs": [
    {
     "data": {
      "text/plain": [
       "(5 * second, 3 * volt)"
      ]
     },
     "execution_count": 68,
     "metadata": {},
     "output_type": "execute_result"
    }
   ],
   "source": [
    "d_function(True)"
   ]
  },
  {
   "cell_type": "markdown",
   "metadata": {},
   "source": [
    "##### Incorrect Return Values\n",
    "The following call will raise a `UnitMismatchError` because the return values are in volts and seconds, which do not match the expected order."
   ]
  },
  {
   "cell_type": "code",
   "execution_count": 69,
   "metadata": {},
   "outputs": [
    {
     "name": "stdout",
     "output_type": "stream",
     "text": [
      "The return value of function 'd_function' was expected to have unit V but was '3 * volt' (unit is V).\n"
     ]
    }
   ],
   "source": [
    "try:\n",
    "    d_function(False)\n",
    "except UnitMismatchError as e:\n",
    "    print(e)"
   ]
  },
  {
   "cell_type": "markdown",
   "metadata": {},
   "source": [
    "#### Validating Dictionary Return Values\n",
    "The `check_units` decorator can also validate dictionary return values to ensure they have the expected units."
   ]
  },
  {
   "cell_type": "code",
   "execution_count": 71,
   "metadata": {},
   "outputs": [],
   "source": [
    "@check_units(result={'u': second, 'v': (volt, meter)})\n",
    "def d_function2(true_result):\n",
    "    \"\"\"\n",
    "    Return a value in seconds if return_second is True, otherwise return\n",
    "    a value in volt.\n",
    "    \"\"\"\n",
    "    if true_result == 0:\n",
    "        return {'u': 5 * second, 'v': (3 * volt, 2 * meter)}\n",
    "    elif true_result == 1:\n",
    "        return 3 * volt, 5 * second\n",
    "    else:\n",
    "        return {'u': 5 * second, 'v': (3 * volt, 2 * volt)}"
   ]
  },
  {
   "cell_type": "markdown",
   "metadata": {},
   "source": [
    "##### Correct Return Values\n",
    "The following call is correct because the return values match the expected units."
   ]
  },
  {
   "cell_type": "code",
   "execution_count": 72,
   "metadata": {},
   "outputs": [
    {
     "data": {
      "text/plain": [
       "{'u': 5 * second, 'v': (3 * volt, 2 * meter)}"
      ]
     },
     "execution_count": 72,
     "metadata": {},
     "output_type": "execute_result"
    }
   ],
   "source": [
    "d_function2(0)"
   ]
  },
  {
   "cell_type": "markdown",
   "metadata": {},
   "source": [
    "##### Incorrect Return Values\n",
    "The following calls will raise a `TypeError` or `UnitMismatchError` because the return values do not match the expected units."
   ]
  },
  {
   "cell_type": "code",
   "execution_count": 74,
   "metadata": {},
   "outputs": [
    {
     "name": "stdout",
     "output_type": "stream",
     "text": [
      "Expected a return value of type {'u': second, 'v': (volt, meter)} but got (3 * volt, 5 * second)\n",
      "The return value of function 'd_function2' was expected to have unit V but was '2 * volt' (unit is V).\n"
     ]
    }
   ],
   "source": [
    "try:\n",
    "    d_function2(1)\n",
    "except TypeError as e:\n",
    "    print(e)\n",
    "try:\n",
    "    d_function2(2)\n",
    "except UnitMismatchError as e:\n",
    "    print(e)"
   ]
  },
  {
   "cell_type": "markdown",
   "metadata": {},
   "source": [
    "## Assigning Units"
   ]
  },
  {
   "cell_type": "markdown",
   "metadata": {},
   "source": [
    "### `assign_units` Decorator\n",
    "The `assign_units` decorator is used to automatically assign units to the input arguments or return values of a function. It ensures that the values are converted to the specified units, simplifying unit handling in scientific computations."
   ]
  },
  {
   "cell_type": "markdown",
   "metadata": {},
   "source": [
    "#### Basic Usage\n",
    "\n",
    "We can use the `assign_units` decorator to automatically assign units to the input arguments of a function."
   ]
  },
  {
   "cell_type": "code",
   "execution_count": 75,
   "metadata": {},
   "outputs": [],
   "source": [
    "@assign_units(v=volt)\n",
    "def a_function(v, x):\n",
    "    \"\"\"\n",
    "    v will be assigned units of volt, and x can have any (or no) unit.\n",
    "    \"\"\"\n",
    "    return v"
   ]
  },
  {
   "cell_type": "markdown",
   "metadata": {},
   "source": [
    "##### Correct Units\n",
    "The following calls are correct because the `v` argument is automatically converted to volts."
   ]
  },
  {
   "cell_type": "code",
   "execution_count": 77,
   "metadata": {},
   "outputs": [],
   "source": [
    "assert a_function(3 * mV, 5 * second) == (3 * mV).to_decimal(volt)\n",
    "assert a_function(3 * volt, 5 * second) == (3 * volt).to_decimal(volt)\n",
    "assert a_function(5 * volt, \"something\") == (5 * volt).to_decimal(volt)"
   ]
  },
  {
   "cell_type": "markdown",
   "metadata": {},
   "source": [
    "##### Incorrect Units\n",
    "The following calls will raise a `UnitMismatchError` or `TypeError` because the `v` argument cannot be converted to volts."
   ]
  },
  {
   "cell_type": "code",
   "execution_count": 78,
   "metadata": {},
   "outputs": [
    {
     "name": "stdout",
     "output_type": "stream",
     "text": [
      "Cannot convert to the decimal number using a unit with different dimensions. The quantity has the unit s, but the given unit is V\n",
      "Function 'a_function' expected a Quantity object for argument 'v' but got '5'\n",
      "Function 'a_function' expected a Quantity object for argument 'v' but got '<object object at 0x00000193E29D4370>'\n"
     ]
    }
   ],
   "source": [
    "try:\n",
    "    a_function(5 * second, None)\n",
    "except UnitMismatchError as e:\n",
    "    print(e)\n",
    "\n",
    "try:\n",
    "    a_function(5, None)\n",
    "except TypeError as e:\n",
    "    print(e)\n",
    "\n",
    "try:\n",
    "    a_function(object(), None)\n",
    "except TypeError as e:\n",
    "    print(e)"
   ]
  },
  {
   "cell_type": "markdown",
   "metadata": {},
   "source": [
    "#### Assigning Units to Return Values\n",
    "The `assign_units` decorator can also be used to automatically assign units to the return value of a function."
   ]
  },
  {
   "cell_type": "code",
   "execution_count": 79,
   "metadata": {},
   "outputs": [],
   "source": [
    "@assign_units(result=second)\n",
    "def b_function():\n",
    "    \"\"\"\n",
    "    The return value will be assigned units of seconds.\n",
    "    \"\"\"\n",
    "    return 5"
   ]
  },
  {
   "cell_type": "markdown",
   "metadata": {},
   "source": [
    "##### Correct Return Value\n",
    "The following call is correct because the return value is automatically converted to seconds."
   ]
  },
  {
   "cell_type": "code",
   "execution_count": 80,
   "metadata": {},
   "outputs": [],
   "source": [
    "assert b_function() == 5 * second"
   ]
  },
  {
   "cell_type": "markdown",
   "metadata": {},
   "source": [
    "#### Assigning Units to Multiple Return Values\n",
    "The `assign_units` decorator can also assign units to multiple return values."
   ]
  },
  {
   "cell_type": "code",
   "execution_count": 81,
   "metadata": {},
   "outputs": [],
   "source": [
    "@assign_units(result=(second, volt))\n",
    "def d_function():\n",
    "    \"\"\"\n",
    "    The return values will be assigned units of seconds and volts, respectively.\n",
    "    \"\"\"\n",
    "    return 5, 3"
   ]
  },
  {
   "cell_type": "markdown",
   "metadata": {},
   "source": [
    "##### Correct Return Values\n",
    "The following call is correct because the return values are automatically converted to seconds and volts."
   ]
  },
  {
   "cell_type": "code",
   "execution_count": 82,
   "metadata": {},
   "outputs": [],
   "source": [
    "assert d_function()[0] == 5 * second\n",
    "assert d_function()[1] == 3 * volt"
   ]
  },
  {
   "cell_type": "markdown",
   "metadata": {},
   "source": [
    "#### Assigning Units to Dictionary Return Values\n",
    "The `assign_units` decorator can also assign units to dictionary return values."
   ]
  },
  {
   "cell_type": "code",
   "execution_count": 84,
   "metadata": {},
   "outputs": [],
   "source": [
    "@assign_units(result={'u': second, 'v': (volt, meter)})\n",
    "def d_function2(true_result):\n",
    "    \"\"\"\n",
    "    The return values will be assigned units based on the dictionary specification.\n",
    "    \"\"\"\n",
    "    if true_result == 0:\n",
    "        return {'u': 5, 'v': (3, 2)}\n",
    "    elif true_result == 1:\n",
    "        return 3, 5\n",
    "    else:\n",
    "        return 3, 5"
   ]
  },
  {
   "cell_type": "markdown",
   "metadata": {},
   "source": [
    "##### Correct Return Values\n",
    "The following call is correct because the return values are automatically converted to the specified units."
   ]
  },
  {
   "cell_type": "code",
   "execution_count": 85,
   "metadata": {},
   "outputs": [
    {
     "data": {
      "text/plain": [
       "{'u': 5 * second, 'v': (3 * volt, 2 * meter)}"
      ]
     },
     "execution_count": 85,
     "metadata": {},
     "output_type": "execute_result"
    }
   ],
   "source": [
    "d_function2(0)"
   ]
  },
  {
   "cell_type": "markdown",
   "metadata": {},
   "source": [
    "##### Incorrect Return Values\n",
    "The following call will raise a `TypeError` because the return values do not match the expected structure."
   ]
  },
  {
   "cell_type": "code",
   "execution_count": 86,
   "metadata": {},
   "outputs": [
    {
     "name": "stdout",
     "output_type": "stream",
     "text": [
      "Expected a return value of type {'u': second, 'v': (volt, meter)} but got (3, 5)\n"
     ]
    }
   ],
   "source": [
    "try:\n",
    "    d_function2(1)\n",
    "except TypeError as e:\n",
    "    print(e)"
   ]
  },
  {
   "cell_type": "markdown",
   "metadata": {},
   "source": [
    "Through the examples above, we can see the utility of the `assign_units` decorator in automatically assigning units to input arguments and return values. It simplifies unit handling in scientific computations, ensuring consistency and reducing the likelihood of errors."
   ]
  }
 ],
 "metadata": {
  "kernelspec": {
   "display_name": "brainpy-dev",
   "language": "python",
   "name": "python3"
  },
  "language_info": {
   "codemirror_mode": {
    "name": "ipython",
    "version": 3
   },
   "file_extension": ".py",
   "mimetype": "text/x-python",
   "name": "python",
   "nbconvert_exporter": "python",
   "pygments_lexer": "ipython3",
   "version": "3.12.8"
  }
 },
 "nbformat": 4,
 "nbformat_minor": 2
}
