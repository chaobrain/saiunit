{
 "cells": [
  {
   "cell_type": "markdown",
   "metadata": {},
   "source": [
    "# Linear Algebra Functions\n",
    "\n",
    "[![Colab](https://colab.research.google.com/assets/colab-badge.svg)](https://colab.research.google.com/github/chaobrain/saiunit/blob/master/docs/mathematical_functions/linalg_functions.ipynb)\n",
    "[![Open in Kaggle](https://kaggle.com/static/images/open-in-kaggle.svg)](https://kaggle.com/kernels/welcome?src=https://github.com/chaobrain/saiunit/blob/master/docs/mathematical_functions/linalg_functions.ipynb)"
   ]
  },
  {
   "cell_type": "markdown",
   "metadata": {},
   "source": [
    "In `saiunit.linalg` we reimplemented almost all important Linear Algebra functions compatible with both `Quantity` and arrays.\n",
    "For compatible with `Quantity`, we categorized the functions into two groups.\n",
    "\n",
    "- [Linear Algebra Changing Unit](https://saiunit.readthedocs.io/en/latest/apis/saiunit.linalg.html#functions-that-changing-unit)\n",
    "- [Linear Algebra Keeping Unit](https://saiunit.readthedocs.io/en/latest/apis/saiunit.linalg.html#functions-that-keeping-unit)"
   ]
  }
 ],
 "metadata": {
  "language_info": {
   "name": "python"
  }
 },
 "nbformat": 4,
 "nbformat_minor": 2
}
