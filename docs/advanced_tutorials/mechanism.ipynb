{
 "cells": [
  {
   "cell_type": "markdown",
   "metadata": {},
   "source": [
    "# Mechanism of Quantity\n",
    "\n",
    "[![Colab](https://colab.research.google.com/assets/colab-badge.svg)](https://colab.research.google.com/github/chaobrain/saiunit/blob/master/docs/advanced_tutorials/mechanism.ipynb)\n",
    "[![Open in Kaggle](https://kaggle.com/static/images/open-in-kaggle.svg)](https://kaggle.com/kernels/welcome?src=https://github.com/chaobrain/saiunit/blob/master/docs/advanced_tutorials/mechanism.ipynb)"
   ]
  },
  {
   "cell_type": "markdown",
   "metadata": {},
   "source": [
    "## Introduction\n",
    "\n",
    "In this section, we will introduce the mechanism of quantity, dimension, and unit in `saiunit` for advanced users.\n",
    "\n",
    "The basic design is shown in the following figure."
   ]
  },
  {
   "cell_type": "markdown",
   "metadata": {},
   "source": [
    "<center><img src=\"../_static/mechanism.jpg\"\"></center>"
   ]
  },
  {
   "cell_type": "markdown",
   "metadata": {},
   "source": [
    "## Dimension\n",
    "\n",
    "The `Dimension` class represents the dimensions of physical quantities in terms of the seven basic SI units (length, mass, time, etc.). It provides arithmetic operations for dimensions, such as multiplication, division, and exponentiation.\n",
    "\n",
    "**Key Features**:\n",
    "- Storage of Dimension Exponents: Uses a tuple _dims to store the exponents for each base SI unit.\n",
    "- Immutability: Ensures immutability by disabling increment operators (e.g., __imul__, __idiv__, etc.).\n",
    "- Dimension Arithmetic: Supports multiplication (__mul__), division (__div__), and power (__pow__) operations, creating new dimension objects.\n",
    "- Comparison: Supports dimension comparison through __eq__ and __ne__ methods.\n",
    "- Singleton Pattern: Utilizes the get_or_create_dimension function to ensure that instances of the same dimension combination are the same object."
   ]
  },
  {
   "cell_type": "markdown",
   "metadata": {},
   "source": [
    "## Units\n",
    "\n",
    "The `Unit` class represents a physical unit, such as meters, seconds, etc. It includes methods for creating units, performing arithmetic operations, and checking unit compatibility.\n",
    "\n",
    "- `_base`: The base value of the unit (as the base of the exponent).\n",
    "- `_scale`: The scale of the unit, represented as an exponent of `_base`.\n",
    "- `_dim`: The `Dimension` of the unit.\n",
    "- `_dispname`: The display name of the unit.\n",
    "- `_name`: The full name of the unit.\n",
    "- `iscompound`: A flag indicating whether the unit is a compound unit (composed of other units).\n",
    "\n",
    "The `__init__` method initializes these attributes based on the provided parameters. The `scale` attribute is crucial for scaling the unit, as it determines the prefix (like kilo, milli, etc.) that should be applied to the base unit.\n",
    "\n",
    "Scaling in the `Unit` class is handled through the `_scale` attribute and the use of standard SI prefixes. The `create_scaled_unit` method is used to create a new unit that is a scaled version of an existing base unit. This method takes a `baseunit` and a `scalefactor` (the prefix like \"m\" for milli) and adjusts the `scale` attribute accordingly. For example, if the `baseunit` is metre and the `scalefactor` is \"k\" (for kilo), the `scale` would be increased by 3 (since kilo represents 10^3).\n",
    "\n",
    "See more details of creating units at [link](https://saiunit.readthedocs.io/advanced_tutorials/combining_and_defining.html)."
   ]
  },
  {
   "cell_type": "markdown",
   "metadata": {},
   "source": [
    "## Quantity\n",
    "\n",
    "The Quantity class represents a physical quantity with a numerical value and a unit. It is the core class for handling physical quantities in saiunit.\n",
    "\n",
    "**Key Features**:\n",
    "- Mantissa and Unit: Stores the numerical value (_mantissa) and the unit (_unit).\n",
    "- Unit Handling: Works in conjunction with the Unit class to handle conversions between different units.\n",
    "- Arithmetic Operations: Supports all basic arithmetic operations, ensuring dimensional consistency.\n",
    "- Dimension Checking: Automatically checks for dimensional consistency during operations, throwing a DimensionMismatchError if inconsistencies are found.\n",
    "- Unit Conversion: Provides methods like in_unit and in_best_unit to convert the numerical representation to different units.\n",
    "- Integration with NumPy and JAX: Supports interoperability with NumPy and JAX arrays, allowing the use of these libraries' functionalities on physical quantities."
   ]
  }
 ],
 "metadata": {
  "language_info": {
   "name": "python"
  }
 },
 "nbformat": 4,
 "nbformat_minor": 2
}
